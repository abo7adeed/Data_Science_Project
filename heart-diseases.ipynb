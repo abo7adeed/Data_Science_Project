{
 "cells": [
  {
   "cell_type": "code",
   "execution_count": 1,
   "id": "65410f94",
   "metadata": {
    "_cell_guid": "b1076dfc-b9ad-4769-8c92-a6c4dae69d19",
    "_uuid": "8f2839f25d086af736a60e9eeb907d3b93b6e0e5",
    "execution": {
     "iopub.execute_input": "2024-05-10T20:13:59.190362Z",
     "iopub.status.busy": "2024-05-10T20:13:59.189995Z",
     "iopub.status.idle": "2024-05-10T20:14:00.035760Z",
     "shell.execute_reply": "2024-05-10T20:14:00.034259Z"
    },
    "papermill": {
     "duration": 0.858752,
     "end_time": "2024-05-10T20:14:00.038176",
     "exception": false,
     "start_time": "2024-05-10T20:13:59.179424",
     "status": "completed"
    },
    "tags": []
   },
   "outputs": [
    {
     "name": "stdout",
     "output_type": "stream",
     "text": [
      "/kaggle/input/uncleaned/heart_disease_uncleaned.csv\n"
     ]
    }
   ],
   "source": [
    "# This Python 3 environment comes with many helpful analytics libraries installed\n",
    "# It is defined by the kaggle/python Docker image: https://github.com/kaggle/docker-python\n",
    "# For example, here's several helpful packages to load\n",
    "\n",
    "import numpy as np # linear algebra\n",
    "import pandas as pd # data processing, CSV file I/O (e.g. pd.read_csv)\n",
    "\n",
    "# Input data files are available in the read-only \"../input/\" directory\n",
    "# For example, running this (by clicking run or pressing Shift+Enter) will list all files under the input directory\n",
    "\n",
    "import os\n",
    "for dirname, _, filenames in os.walk('/kaggle/input'):\n",
    "    for filename in filenames:\n",
    "        print(os.path.join(dirname, filename))\n",
    "\n",
    "# You can write up to 20GB to the current directory (/kaggle/working/) that gets preserved as output when you create a version using \"Save & Run All\" \n",
    "# You can also write temporary files to /kaggle/temp/, but they won't be saved outside of the current session"
   ]
  },
  {
   "cell_type": "code",
   "execution_count": 2,
   "id": "9d251e30",
   "metadata": {
    "execution": {
     "iopub.execute_input": "2024-05-10T20:14:00.057883Z",
     "iopub.status.busy": "2024-05-10T20:14:00.057393Z",
     "iopub.status.idle": "2024-05-10T20:14:00.062211Z",
     "shell.execute_reply": "2024-05-10T20:14:00.061295Z"
    },
    "papermill": {
     "duration": 0.016939,
     "end_time": "2024-05-10T20:14:00.064421",
     "exception": false,
     "start_time": "2024-05-10T20:14:00.047482",
     "status": "completed"
    },
    "tags": []
   },
   "outputs": [],
   "source": [
    "import numpy as np \n",
    "import pandas as pd \n",
    "import matplotlib as plt \n",
    "import os "
   ]
  },
  {
   "cell_type": "code",
   "execution_count": 3,
   "id": "1d62f7fa",
   "metadata": {
    "execution": {
     "iopub.execute_input": "2024-05-10T20:14:00.083735Z",
     "iopub.status.busy": "2024-05-10T20:14:00.083379Z",
     "iopub.status.idle": "2024-05-10T20:14:01.190525Z",
     "shell.execute_reply": "2024-05-10T20:14:01.189116Z"
    },
    "papermill": {
     "duration": 1.120084,
     "end_time": "2024-05-10T20:14:01.193518",
     "exception": false,
     "start_time": "2024-05-10T20:14:00.073434",
     "status": "completed"
    },
    "tags": []
   },
   "outputs": [],
   "source": [
    "# Loading Data \n",
    "files = os.listdir('/kaggle/input/uncleaned')\n",
    "\n",
    "# Read each file\n",
    "for file in files:\n",
    "    if file.endswith('.csv'):\n",
    "        data = pd.read_csv(os.path.join('/kaggle/input/uncleaned', file))"
   ]
  },
  {
   "cell_type": "code",
   "execution_count": 4,
   "id": "8f22f23f",
   "metadata": {
    "execution": {
     "iopub.execute_input": "2024-05-10T20:14:01.212925Z",
     "iopub.status.busy": "2024-05-10T20:14:01.212077Z",
     "iopub.status.idle": "2024-05-10T20:14:01.219448Z",
     "shell.execute_reply": "2024-05-10T20:14:01.218488Z"
    },
    "papermill": {
     "duration": 0.018973,
     "end_time": "2024-05-10T20:14:01.221412",
     "exception": false,
     "start_time": "2024-05-10T20:14:01.202439",
     "status": "completed"
    },
    "tags": []
   },
   "outputs": [
    {
     "data": {
      "text/plain": [
       "(319795, 18)"
      ]
     },
     "execution_count": 4,
     "metadata": {},
     "output_type": "execute_result"
    }
   ],
   "source": [
    "data.shape"
   ]
  },
  {
   "cell_type": "code",
   "execution_count": 5,
   "id": "956fd908",
   "metadata": {
    "execution": {
     "iopub.execute_input": "2024-05-10T20:14:01.239471Z",
     "iopub.status.busy": "2024-05-10T20:14:01.239152Z",
     "iopub.status.idle": "2024-05-10T20:14:01.268365Z",
     "shell.execute_reply": "2024-05-10T20:14:01.267390Z"
    },
    "papermill": {
     "duration": 0.040596,
     "end_time": "2024-05-10T20:14:01.270428",
     "exception": false,
     "start_time": "2024-05-10T20:14:01.229832",
     "status": "completed"
    },
    "tags": []
   },
   "outputs": [
    {
     "data": {
      "text/plain": [
       "<bound method DataFrame.info of        HeartDisease    BMI Smoking AlcoholDrinking Stroke  PhysicalHealth  \\\n",
       "0                No  16.60     Yes              No     No             3.0   \n",
       "1                No  20.34      No              No    Yes             0.0   \n",
       "2                No  26.58     Yes              No     No            20.0   \n",
       "3                No  24.21      No              No     No             0.0   \n",
       "4                No  23.71      No              No     No            28.0   \n",
       "...             ...    ...     ...             ...    ...             ...   \n",
       "319790          Yes  27.41     Yes              No     No             7.0   \n",
       "319791           No  29.84     Yes              No     No             0.0   \n",
       "319792           No  24.24      No              No     No             0.0   \n",
       "319793           No  32.81      No              No     No             0.0   \n",
       "319794           No  46.56      No              No     No             0.0   \n",
       "\n",
       "        MentalHealth DiffWalking     Sex  AgeCategory      Race Diabetic  \\\n",
       "0               30.0          No  Female        55-59     White      Yes   \n",
       "1                0.0          No  Female  80 or older     White       No   \n",
       "2               30.0          No    Male        65-69     White      Yes   \n",
       "3                0.0          No  Female        75-79     White       No   \n",
       "4                0.0         Yes  Female        40-44     White       No   \n",
       "...              ...         ...     ...          ...       ...      ...   \n",
       "319790           0.0         Yes    Male        60-64  Hispanic      Yes   \n",
       "319791           0.0          No    Male        35-39  Hispanic       No   \n",
       "319792           0.0          No  Female        45-49  Hispanic       No   \n",
       "319793           0.0          No  Female        25-29  Hispanic       No   \n",
       "319794           0.0          No  Female  80 or older  Hispanic       No   \n",
       "\n",
       "       PhysicalActivity  GenHealth  SleepTime Asthma KidneyDisease SkinCancer  \n",
       "0                   Yes  Very good        5.0    Yes            No        Yes  \n",
       "1                   Yes  Very good        7.0     No            No         No  \n",
       "2                   Yes       Fair        8.0    Yes            No         No  \n",
       "3                    No       Good        6.0     No            No        Yes  \n",
       "4                   Yes  Very good        8.0     No            No         No  \n",
       "...                 ...        ...        ...    ...           ...        ...  \n",
       "319790               No       Fair        6.0    Yes            No         No  \n",
       "319791              Yes  Very good        5.0    Yes            No         No  \n",
       "319792              Yes       Good        6.0     No            No         No  \n",
       "319793               No       Good       12.0     No            No         No  \n",
       "319794              Yes       Good        8.0     No            No         No  \n",
       "\n",
       "[319795 rows x 18 columns]>"
      ]
     },
     "execution_count": 5,
     "metadata": {},
     "output_type": "execute_result"
    }
   ],
   "source": [
    "data.info"
   ]
  },
  {
   "cell_type": "code",
   "execution_count": 6,
   "id": "c2723692",
   "metadata": {
    "execution": {
     "iopub.execute_input": "2024-05-10T20:14:01.289267Z",
     "iopub.status.busy": "2024-05-10T20:14:01.288865Z",
     "iopub.status.idle": "2024-05-10T20:14:01.295648Z",
     "shell.execute_reply": "2024-05-10T20:14:01.294820Z"
    },
    "papermill": {
     "duration": 0.018408,
     "end_time": "2024-05-10T20:14:01.297716",
     "exception": false,
     "start_time": "2024-05-10T20:14:01.279308",
     "status": "completed"
    },
    "tags": []
   },
   "outputs": [
    {
     "data": {
      "text/plain": [
       "Index(['HeartDisease', 'BMI', 'Smoking', 'AlcoholDrinking', 'Stroke',\n",
       "       'PhysicalHealth', 'MentalHealth', 'DiffWalking', 'Sex', 'AgeCategory',\n",
       "       'Race', 'Diabetic', 'PhysicalActivity', 'GenHealth', 'SleepTime',\n",
       "       'Asthma', 'KidneyDisease', 'SkinCancer'],\n",
       "      dtype='object')"
      ]
     },
     "execution_count": 6,
     "metadata": {},
     "output_type": "execute_result"
    }
   ],
   "source": [
    "data.columns"
   ]
  },
  {
   "cell_type": "code",
   "execution_count": 7,
   "id": "b63cb476",
   "metadata": {
    "execution": {
     "iopub.execute_input": "2024-05-10T20:14:01.317746Z",
     "iopub.status.busy": "2024-05-10T20:14:01.317421Z",
     "iopub.status.idle": "2024-05-10T20:14:01.334272Z",
     "shell.execute_reply": "2024-05-10T20:14:01.333362Z"
    },
    "papermill": {
     "duration": 0.029221,
     "end_time": "2024-05-10T20:14:01.336698",
     "exception": false,
     "start_time": "2024-05-10T20:14:01.307477",
     "status": "completed"
    },
    "tags": []
   },
   "outputs": [
    {
     "data": {
      "text/plain": [
       "<bound method NDFrame.describe of        HeartDisease    BMI Smoking AlcoholDrinking Stroke  PhysicalHealth  \\\n",
       "0                No  16.60     Yes              No     No             3.0   \n",
       "1                No  20.34      No              No    Yes             0.0   \n",
       "2                No  26.58     Yes              No     No            20.0   \n",
       "3                No  24.21      No              No     No             0.0   \n",
       "4                No  23.71      No              No     No            28.0   \n",
       "...             ...    ...     ...             ...    ...             ...   \n",
       "319790          Yes  27.41     Yes              No     No             7.0   \n",
       "319791           No  29.84     Yes              No     No             0.0   \n",
       "319792           No  24.24      No              No     No             0.0   \n",
       "319793           No  32.81      No              No     No             0.0   \n",
       "319794           No  46.56      No              No     No             0.0   \n",
       "\n",
       "        MentalHealth DiffWalking     Sex  AgeCategory      Race Diabetic  \\\n",
       "0               30.0          No  Female        55-59     White      Yes   \n",
       "1                0.0          No  Female  80 or older     White       No   \n",
       "2               30.0          No    Male        65-69     White      Yes   \n",
       "3                0.0          No  Female        75-79     White       No   \n",
       "4                0.0         Yes  Female        40-44     White       No   \n",
       "...              ...         ...     ...          ...       ...      ...   \n",
       "319790           0.0         Yes    Male        60-64  Hispanic      Yes   \n",
       "319791           0.0          No    Male        35-39  Hispanic       No   \n",
       "319792           0.0          No  Female        45-49  Hispanic       No   \n",
       "319793           0.0          No  Female        25-29  Hispanic       No   \n",
       "319794           0.0          No  Female  80 or older  Hispanic       No   \n",
       "\n",
       "       PhysicalActivity  GenHealth  SleepTime Asthma KidneyDisease SkinCancer  \n",
       "0                   Yes  Very good        5.0    Yes            No        Yes  \n",
       "1                   Yes  Very good        7.0     No            No         No  \n",
       "2                   Yes       Fair        8.0    Yes            No         No  \n",
       "3                    No       Good        6.0     No            No        Yes  \n",
       "4                   Yes  Very good        8.0     No            No         No  \n",
       "...                 ...        ...        ...    ...           ...        ...  \n",
       "319790               No       Fair        6.0    Yes            No         No  \n",
       "319791              Yes  Very good        5.0    Yes            No         No  \n",
       "319792              Yes       Good        6.0     No            No         No  \n",
       "319793               No       Good       12.0     No            No         No  \n",
       "319794              Yes       Good        8.0     No            No         No  \n",
       "\n",
       "[319795 rows x 18 columns]>"
      ]
     },
     "execution_count": 7,
     "metadata": {},
     "output_type": "execute_result"
    }
   ],
   "source": [
    "data.describe"
   ]
  },
  {
   "cell_type": "code",
   "execution_count": 8,
   "id": "8783fdf9",
   "metadata": {
    "execution": {
     "iopub.execute_input": "2024-05-10T20:14:01.357365Z",
     "iopub.status.busy": "2024-05-10T20:14:01.357089Z",
     "iopub.status.idle": "2024-05-10T20:14:02.640715Z",
     "shell.execute_reply": "2024-05-10T20:14:02.639901Z"
    },
    "papermill": {
     "duration": 1.296417,
     "end_time": "2024-05-10T20:14:02.643593",
     "exception": false,
     "start_time": "2024-05-10T20:14:01.347176",
     "status": "completed"
    },
    "tags": []
   },
   "outputs": [
    {
     "data": {
      "text/html": [
       "<div>\n",
       "<style scoped>\n",
       "    .dataframe tbody tr th:only-of-type {\n",
       "        vertical-align: middle;\n",
       "    }\n",
       "\n",
       "    .dataframe tbody tr th {\n",
       "        vertical-align: top;\n",
       "    }\n",
       "\n",
       "    .dataframe thead th {\n",
       "        text-align: right;\n",
       "    }\n",
       "</style>\n",
       "<table border=\"1\" class=\"dataframe\">\n",
       "  <thead>\n",
       "    <tr style=\"text-align: right;\">\n",
       "      <th></th>\n",
       "      <th>count</th>\n",
       "      <th>unique</th>\n",
       "      <th>top</th>\n",
       "      <th>freq</th>\n",
       "    </tr>\n",
       "  </thead>\n",
       "  <tbody>\n",
       "    <tr>\n",
       "      <th>HeartDisease</th>\n",
       "      <td>319795</td>\n",
       "      <td>2</td>\n",
       "      <td>No</td>\n",
       "      <td>292422</td>\n",
       "    </tr>\n",
       "    <tr>\n",
       "      <th>Smoking</th>\n",
       "      <td>319795</td>\n",
       "      <td>2</td>\n",
       "      <td>No</td>\n",
       "      <td>187887</td>\n",
       "    </tr>\n",
       "    <tr>\n",
       "      <th>AlcoholDrinking</th>\n",
       "      <td>319795</td>\n",
       "      <td>2</td>\n",
       "      <td>No</td>\n",
       "      <td>298018</td>\n",
       "    </tr>\n",
       "    <tr>\n",
       "      <th>Stroke</th>\n",
       "      <td>319795</td>\n",
       "      <td>2</td>\n",
       "      <td>No</td>\n",
       "      <td>307726</td>\n",
       "    </tr>\n",
       "    <tr>\n",
       "      <th>DiffWalking</th>\n",
       "      <td>319795</td>\n",
       "      <td>2</td>\n",
       "      <td>No</td>\n",
       "      <td>275385</td>\n",
       "    </tr>\n",
       "    <tr>\n",
       "      <th>Sex</th>\n",
       "      <td>319795</td>\n",
       "      <td>2</td>\n",
       "      <td>Female</td>\n",
       "      <td>167805</td>\n",
       "    </tr>\n",
       "    <tr>\n",
       "      <th>AgeCategory</th>\n",
       "      <td>319795</td>\n",
       "      <td>13</td>\n",
       "      <td>65-69</td>\n",
       "      <td>34151</td>\n",
       "    </tr>\n",
       "    <tr>\n",
       "      <th>Race</th>\n",
       "      <td>319795</td>\n",
       "      <td>6</td>\n",
       "      <td>White</td>\n",
       "      <td>245212</td>\n",
       "    </tr>\n",
       "    <tr>\n",
       "      <th>Diabetic</th>\n",
       "      <td>319795</td>\n",
       "      <td>4</td>\n",
       "      <td>No</td>\n",
       "      <td>269653</td>\n",
       "    </tr>\n",
       "    <tr>\n",
       "      <th>PhysicalActivity</th>\n",
       "      <td>319795</td>\n",
       "      <td>2</td>\n",
       "      <td>Yes</td>\n",
       "      <td>247957</td>\n",
       "    </tr>\n",
       "    <tr>\n",
       "      <th>GenHealth</th>\n",
       "      <td>319795</td>\n",
       "      <td>5</td>\n",
       "      <td>Very good</td>\n",
       "      <td>113858</td>\n",
       "    </tr>\n",
       "    <tr>\n",
       "      <th>Asthma</th>\n",
       "      <td>319795</td>\n",
       "      <td>2</td>\n",
       "      <td>No</td>\n",
       "      <td>276923</td>\n",
       "    </tr>\n",
       "    <tr>\n",
       "      <th>KidneyDisease</th>\n",
       "      <td>319795</td>\n",
       "      <td>2</td>\n",
       "      <td>No</td>\n",
       "      <td>308016</td>\n",
       "    </tr>\n",
       "    <tr>\n",
       "      <th>SkinCancer</th>\n",
       "      <td>319795</td>\n",
       "      <td>2</td>\n",
       "      <td>No</td>\n",
       "      <td>289976</td>\n",
       "    </tr>\n",
       "  </tbody>\n",
       "</table>\n",
       "</div>"
      ],
      "text/plain": [
       "                   count unique        top    freq\n",
       "HeartDisease      319795      2         No  292422\n",
       "Smoking           319795      2         No  187887\n",
       "AlcoholDrinking   319795      2         No  298018\n",
       "Stroke            319795      2         No  307726\n",
       "DiffWalking       319795      2         No  275385\n",
       "Sex               319795      2     Female  167805\n",
       "AgeCategory       319795     13      65-69   34151\n",
       "Race              319795      6      White  245212\n",
       "Diabetic          319795      4         No  269653\n",
       "PhysicalActivity  319795      2        Yes  247957\n",
       "GenHealth         319795      5  Very good  113858\n",
       "Asthma            319795      2         No  276923\n",
       "KidneyDisease     319795      2         No  308016\n",
       "SkinCancer        319795      2         No  289976"
      ]
     },
     "execution_count": 8,
     "metadata": {},
     "output_type": "execute_result"
    }
   ],
   "source": [
    "data.describe(include='O').transpose()"
   ]
  },
  {
   "cell_type": "code",
   "execution_count": 9,
   "id": "d48b5762",
   "metadata": {
    "execution": {
     "iopub.execute_input": "2024-05-10T20:14:02.669716Z",
     "iopub.status.busy": "2024-05-10T20:14:02.669063Z",
     "iopub.status.idle": "2024-05-10T20:14:03.121982Z",
     "shell.execute_reply": "2024-05-10T20:14:03.120956Z"
    },
    "papermill": {
     "duration": 0.467928,
     "end_time": "2024-05-10T20:14:03.124199",
     "exception": false,
     "start_time": "2024-05-10T20:14:02.656271",
     "status": "completed"
    },
    "tags": []
   },
   "outputs": [
    {
     "data": {
      "text/plain": [
       "HeartDisease        0\n",
       "BMI                 0\n",
       "Smoking             0\n",
       "AlcoholDrinking     0\n",
       "Stroke              0\n",
       "PhysicalHealth      0\n",
       "MentalHealth        0\n",
       "DiffWalking         0\n",
       "Sex                 0\n",
       "AgeCategory         0\n",
       "Race                0\n",
       "Diabetic            0\n",
       "PhysicalActivity    0\n",
       "GenHealth           0\n",
       "SleepTime           0\n",
       "Asthma              0\n",
       "KidneyDisease       0\n",
       "SkinCancer          0\n",
       "dtype: int64"
      ]
     },
     "execution_count": 9,
     "metadata": {},
     "output_type": "execute_result"
    }
   ],
   "source": [
    "data.isna().sum()"
   ]
  },
  {
   "cell_type": "code",
   "execution_count": 10,
   "id": "ec4a85d9",
   "metadata": {
    "execution": {
     "iopub.execute_input": "2024-05-10T20:14:03.146303Z",
     "iopub.status.busy": "2024-05-10T20:14:03.145486Z",
     "iopub.status.idle": "2024-05-10T20:14:03.595301Z",
     "shell.execute_reply": "2024-05-10T20:14:03.594231Z"
    },
    "papermill": {
     "duration": 0.463657,
     "end_time": "2024-05-10T20:14:03.597794",
     "exception": false,
     "start_time": "2024-05-10T20:14:03.134137",
     "status": "completed"
    },
    "tags": []
   },
   "outputs": [
    {
     "data": {
      "text/plain": [
       "False"
      ]
     },
     "execution_count": 10,
     "metadata": {},
     "output_type": "execute_result"
    }
   ],
   "source": [
    "data.isna().values.any()"
   ]
  },
  {
   "cell_type": "code",
   "execution_count": 11,
   "id": "8ee64b1f",
   "metadata": {
    "execution": {
     "iopub.execute_input": "2024-05-10T20:14:03.621458Z",
     "iopub.status.busy": "2024-05-10T20:14:03.621075Z",
     "iopub.status.idle": "2024-05-10T20:14:04.057489Z",
     "shell.execute_reply": "2024-05-10T20:14:04.056452Z"
    },
    "papermill": {
     "duration": 0.450318,
     "end_time": "2024-05-10T20:14:04.059603",
     "exception": false,
     "start_time": "2024-05-10T20:14:03.609285",
     "status": "completed"
    },
    "tags": []
   },
   "outputs": [
    {
     "data": {
      "text/html": [
       "<div>\n",
       "<style scoped>\n",
       "    .dataframe tbody tr th:only-of-type {\n",
       "        vertical-align: middle;\n",
       "    }\n",
       "\n",
       "    .dataframe tbody tr th {\n",
       "        vertical-align: top;\n",
       "    }\n",
       "\n",
       "    .dataframe thead th {\n",
       "        text-align: right;\n",
       "    }\n",
       "</style>\n",
       "<table border=\"1\" class=\"dataframe\">\n",
       "  <thead>\n",
       "    <tr style=\"text-align: right;\">\n",
       "      <th></th>\n",
       "      <th>HeartDisease</th>\n",
       "      <th>BMI</th>\n",
       "      <th>Smoking</th>\n",
       "      <th>AlcoholDrinking</th>\n",
       "      <th>Stroke</th>\n",
       "      <th>PhysicalHealth</th>\n",
       "      <th>MentalHealth</th>\n",
       "      <th>DiffWalking</th>\n",
       "      <th>Sex</th>\n",
       "      <th>AgeCategory</th>\n",
       "      <th>Race</th>\n",
       "      <th>Diabetic</th>\n",
       "      <th>PhysicalActivity</th>\n",
       "      <th>GenHealth</th>\n",
       "      <th>SleepTime</th>\n",
       "      <th>Asthma</th>\n",
       "      <th>KidneyDisease</th>\n",
       "      <th>SkinCancer</th>\n",
       "    </tr>\n",
       "  </thead>\n",
       "  <tbody>\n",
       "    <tr>\n",
       "      <th>2182</th>\n",
       "      <td>No</td>\n",
       "      <td>19.85</td>\n",
       "      <td>No</td>\n",
       "      <td>No</td>\n",
       "      <td>No</td>\n",
       "      <td>0.0</td>\n",
       "      <td>0.0</td>\n",
       "      <td>No</td>\n",
       "      <td>Female</td>\n",
       "      <td>80 or older</td>\n",
       "      <td>White</td>\n",
       "      <td>No</td>\n",
       "      <td>Yes</td>\n",
       "      <td>Excellent</td>\n",
       "      <td>7.0</td>\n",
       "      <td>No</td>\n",
       "      <td>No</td>\n",
       "      <td>No</td>\n",
       "    </tr>\n",
       "    <tr>\n",
       "      <th>3182</th>\n",
       "      <td>No</td>\n",
       "      <td>28.19</td>\n",
       "      <td>No</td>\n",
       "      <td>No</td>\n",
       "      <td>No</td>\n",
       "      <td>0.0</td>\n",
       "      <td>0.0</td>\n",
       "      <td>No</td>\n",
       "      <td>Female</td>\n",
       "      <td>50-54</td>\n",
       "      <td>White</td>\n",
       "      <td>No</td>\n",
       "      <td>Yes</td>\n",
       "      <td>Excellent</td>\n",
       "      <td>7.0</td>\n",
       "      <td>No</td>\n",
       "      <td>No</td>\n",
       "      <td>No</td>\n",
       "    </tr>\n",
       "    <tr>\n",
       "      <th>3397</th>\n",
       "      <td>No</td>\n",
       "      <td>26.54</td>\n",
       "      <td>No</td>\n",
       "      <td>No</td>\n",
       "      <td>No</td>\n",
       "      <td>0.0</td>\n",
       "      <td>0.0</td>\n",
       "      <td>No</td>\n",
       "      <td>Male</td>\n",
       "      <td>45-49</td>\n",
       "      <td>White</td>\n",
       "      <td>No</td>\n",
       "      <td>Yes</td>\n",
       "      <td>Excellent</td>\n",
       "      <td>6.0</td>\n",
       "      <td>No</td>\n",
       "      <td>No</td>\n",
       "      <td>No</td>\n",
       "    </tr>\n",
       "    <tr>\n",
       "      <th>3650</th>\n",
       "      <td>No</td>\n",
       "      <td>32.89</td>\n",
       "      <td>Yes</td>\n",
       "      <td>No</td>\n",
       "      <td>No</td>\n",
       "      <td>2.0</td>\n",
       "      <td>1.0</td>\n",
       "      <td>No</td>\n",
       "      <td>Female</td>\n",
       "      <td>50-54</td>\n",
       "      <td>White</td>\n",
       "      <td>No</td>\n",
       "      <td>Yes</td>\n",
       "      <td>Good</td>\n",
       "      <td>9.0</td>\n",
       "      <td>No</td>\n",
       "      <td>No</td>\n",
       "      <td>No</td>\n",
       "    </tr>\n",
       "    <tr>\n",
       "      <th>4061</th>\n",
       "      <td>No</td>\n",
       "      <td>25.84</td>\n",
       "      <td>No</td>\n",
       "      <td>No</td>\n",
       "      <td>No</td>\n",
       "      <td>0.0</td>\n",
       "      <td>0.0</td>\n",
       "      <td>No</td>\n",
       "      <td>Female</td>\n",
       "      <td>40-44</td>\n",
       "      <td>White</td>\n",
       "      <td>No</td>\n",
       "      <td>Yes</td>\n",
       "      <td>Excellent</td>\n",
       "      <td>8.0</td>\n",
       "      <td>No</td>\n",
       "      <td>No</td>\n",
       "      <td>No</td>\n",
       "    </tr>\n",
       "    <tr>\n",
       "      <th>...</th>\n",
       "      <td>...</td>\n",
       "      <td>...</td>\n",
       "      <td>...</td>\n",
       "      <td>...</td>\n",
       "      <td>...</td>\n",
       "      <td>...</td>\n",
       "      <td>...</td>\n",
       "      <td>...</td>\n",
       "      <td>...</td>\n",
       "      <td>...</td>\n",
       "      <td>...</td>\n",
       "      <td>...</td>\n",
       "      <td>...</td>\n",
       "      <td>...</td>\n",
       "      <td>...</td>\n",
       "      <td>...</td>\n",
       "      <td>...</td>\n",
       "      <td>...</td>\n",
       "    </tr>\n",
       "    <tr>\n",
       "      <th>319671</th>\n",
       "      <td>No</td>\n",
       "      <td>25.06</td>\n",
       "      <td>No</td>\n",
       "      <td>No</td>\n",
       "      <td>No</td>\n",
       "      <td>0.0</td>\n",
       "      <td>0.0</td>\n",
       "      <td>No</td>\n",
       "      <td>Male</td>\n",
       "      <td>40-44</td>\n",
       "      <td>Hispanic</td>\n",
       "      <td>No</td>\n",
       "      <td>Yes</td>\n",
       "      <td>Excellent</td>\n",
       "      <td>7.0</td>\n",
       "      <td>No</td>\n",
       "      <td>No</td>\n",
       "      <td>No</td>\n",
       "    </tr>\n",
       "    <tr>\n",
       "      <th>319689</th>\n",
       "      <td>No</td>\n",
       "      <td>27.44</td>\n",
       "      <td>No</td>\n",
       "      <td>No</td>\n",
       "      <td>No</td>\n",
       "      <td>0.0</td>\n",
       "      <td>0.0</td>\n",
       "      <td>No</td>\n",
       "      <td>Female</td>\n",
       "      <td>30-34</td>\n",
       "      <td>Hispanic</td>\n",
       "      <td>No</td>\n",
       "      <td>Yes</td>\n",
       "      <td>Very good</td>\n",
       "      <td>6.0</td>\n",
       "      <td>No</td>\n",
       "      <td>No</td>\n",
       "      <td>No</td>\n",
       "    </tr>\n",
       "    <tr>\n",
       "      <th>319726</th>\n",
       "      <td>No</td>\n",
       "      <td>30.41</td>\n",
       "      <td>No</td>\n",
       "      <td>No</td>\n",
       "      <td>No</td>\n",
       "      <td>0.0</td>\n",
       "      <td>0.0</td>\n",
       "      <td>No</td>\n",
       "      <td>Male</td>\n",
       "      <td>18-24</td>\n",
       "      <td>Hispanic</td>\n",
       "      <td>No</td>\n",
       "      <td>Yes</td>\n",
       "      <td>Excellent</td>\n",
       "      <td>7.0</td>\n",
       "      <td>No</td>\n",
       "      <td>No</td>\n",
       "      <td>No</td>\n",
       "    </tr>\n",
       "    <tr>\n",
       "      <th>319751</th>\n",
       "      <td>No</td>\n",
       "      <td>34.96</td>\n",
       "      <td>No</td>\n",
       "      <td>No</td>\n",
       "      <td>No</td>\n",
       "      <td>0.0</td>\n",
       "      <td>0.0</td>\n",
       "      <td>No</td>\n",
       "      <td>Male</td>\n",
       "      <td>18-24</td>\n",
       "      <td>Hispanic</td>\n",
       "      <td>No</td>\n",
       "      <td>Yes</td>\n",
       "      <td>Excellent</td>\n",
       "      <td>6.0</td>\n",
       "      <td>No</td>\n",
       "      <td>No</td>\n",
       "      <td>No</td>\n",
       "    </tr>\n",
       "    <tr>\n",
       "      <th>319776</th>\n",
       "      <td>No</td>\n",
       "      <td>27.98</td>\n",
       "      <td>No</td>\n",
       "      <td>No</td>\n",
       "      <td>No</td>\n",
       "      <td>0.0</td>\n",
       "      <td>0.0</td>\n",
       "      <td>No</td>\n",
       "      <td>Female</td>\n",
       "      <td>50-54</td>\n",
       "      <td>Hispanic</td>\n",
       "      <td>No</td>\n",
       "      <td>No</td>\n",
       "      <td>Good</td>\n",
       "      <td>8.0</td>\n",
       "      <td>No</td>\n",
       "      <td>No</td>\n",
       "      <td>No</td>\n",
       "    </tr>\n",
       "  </tbody>\n",
       "</table>\n",
       "<p>18078 rows × 18 columns</p>\n",
       "</div>"
      ],
      "text/plain": [
       "       HeartDisease    BMI Smoking AlcoholDrinking Stroke  PhysicalHealth  \\\n",
       "2182             No  19.85      No              No     No             0.0   \n",
       "3182             No  28.19      No              No     No             0.0   \n",
       "3397             No  26.54      No              No     No             0.0   \n",
       "3650             No  32.89     Yes              No     No             2.0   \n",
       "4061             No  25.84      No              No     No             0.0   \n",
       "...             ...    ...     ...             ...    ...             ...   \n",
       "319671           No  25.06      No              No     No             0.0   \n",
       "319689           No  27.44      No              No     No             0.0   \n",
       "319726           No  30.41      No              No     No             0.0   \n",
       "319751           No  34.96      No              No     No             0.0   \n",
       "319776           No  27.98      No              No     No             0.0   \n",
       "\n",
       "        MentalHealth DiffWalking     Sex  AgeCategory      Race Diabetic  \\\n",
       "2182             0.0          No  Female  80 or older     White       No   \n",
       "3182             0.0          No  Female        50-54     White       No   \n",
       "3397             0.0          No    Male        45-49     White       No   \n",
       "3650             1.0          No  Female        50-54     White       No   \n",
       "4061             0.0          No  Female        40-44     White       No   \n",
       "...              ...         ...     ...          ...       ...      ...   \n",
       "319671           0.0          No    Male        40-44  Hispanic       No   \n",
       "319689           0.0          No  Female        30-34  Hispanic       No   \n",
       "319726           0.0          No    Male        18-24  Hispanic       No   \n",
       "319751           0.0          No    Male        18-24  Hispanic       No   \n",
       "319776           0.0          No  Female        50-54  Hispanic       No   \n",
       "\n",
       "       PhysicalActivity  GenHealth  SleepTime Asthma KidneyDisease SkinCancer  \n",
       "2182                Yes  Excellent        7.0     No            No         No  \n",
       "3182                Yes  Excellent        7.0     No            No         No  \n",
       "3397                Yes  Excellent        6.0     No            No         No  \n",
       "3650                Yes       Good        9.0     No            No         No  \n",
       "4061                Yes  Excellent        8.0     No            No         No  \n",
       "...                 ...        ...        ...    ...           ...        ...  \n",
       "319671              Yes  Excellent        7.0     No            No         No  \n",
       "319689              Yes  Very good        6.0     No            No         No  \n",
       "319726              Yes  Excellent        7.0     No            No         No  \n",
       "319751              Yes  Excellent        6.0     No            No         No  \n",
       "319776               No       Good        8.0     No            No         No  \n",
       "\n",
       "[18078 rows x 18 columns]"
      ]
     },
     "execution_count": 11,
     "metadata": {},
     "output_type": "execute_result"
    }
   ],
   "source": [
    "data[data.duplicated()]"
   ]
  },
  {
   "cell_type": "code",
   "execution_count": 12,
   "id": "b2e96339",
   "metadata": {
    "execution": {
     "iopub.execute_input": "2024-05-10T20:14:04.082178Z",
     "iopub.status.busy": "2024-05-10T20:14:04.081809Z",
     "iopub.status.idle": "2024-05-10T20:14:04.140344Z",
     "shell.execute_reply": "2024-05-10T20:14:04.139240Z"
    },
    "papermill": {
     "duration": 0.072355,
     "end_time": "2024-05-10T20:14:04.142487",
     "exception": false,
     "start_time": "2024-05-10T20:14:04.070132",
     "status": "completed"
    },
    "tags": []
   },
   "outputs": [
    {
     "data": {
      "text/plain": [
       "HeartDisease\n",
       "No     292422\n",
       "Yes     27373\n",
       "Name: count, dtype: int64"
      ]
     },
     "execution_count": 12,
     "metadata": {},
     "output_type": "execute_result"
    }
   ],
   "source": [
    "data['HeartDisease'].value_counts()"
   ]
  },
  {
   "cell_type": "markdown",
   "id": "f15877c1",
   "metadata": {
    "papermill": {
     "duration": 0.010047,
     "end_time": "2024-05-10T20:14:04.163279",
     "exception": false,
     "start_time": "2024-05-10T20:14:04.153232",
     "status": "completed"
    },
    "tags": []
   },
   "source": [
    "## Data Analysis \n"
   ]
  },
  {
   "cell_type": "code",
   "execution_count": 13,
   "id": "167d6859",
   "metadata": {
    "execution": {
     "iopub.execute_input": "2024-05-10T20:14:04.184702Z",
     "iopub.status.busy": "2024-05-10T20:14:04.184368Z",
     "iopub.status.idle": "2024-05-10T20:14:04.243735Z",
     "shell.execute_reply": "2024-05-10T20:14:04.242559Z"
    },
    "papermill": {
     "duration": 0.072922,
     "end_time": "2024-05-10T20:14:04.246183",
     "exception": false,
     "start_time": "2024-05-10T20:14:04.173261",
     "status": "completed"
    },
    "tags": []
   },
   "outputs": [
    {
     "data": {
      "text/plain": [
       "HeartDisease\n",
       "No     292422\n",
       "Yes     27373\n",
       "Name: count, dtype: int64"
      ]
     },
     "execution_count": 13,
     "metadata": {},
     "output_type": "execute_result"
    }
   ],
   "source": [
    "# check how many people have  HeartDisease or not\n",
    "data['HeartDisease'].value_counts()"
   ]
  },
  {
   "cell_type": "code",
   "execution_count": 14,
   "id": "9b2ab6c8",
   "metadata": {
    "execution": {
     "iopub.execute_input": "2024-05-10T20:14:04.269822Z",
     "iopub.status.busy": "2024-05-10T20:14:04.269464Z",
     "iopub.status.idle": "2024-05-10T20:14:04.331428Z",
     "shell.execute_reply": "2024-05-10T20:14:04.330409Z"
    },
    "papermill": {
     "duration": 0.076975,
     "end_time": "2024-05-10T20:14:04.333927",
     "exception": false,
     "start_time": "2024-05-10T20:14:04.256952",
     "status": "completed"
    },
    "tags": []
   },
   "outputs": [
    {
     "data": {
      "text/plain": [
       "Sex\n",
       "Female    167805\n",
       "Male      151990\n",
       "Name: count, dtype: int64"
      ]
     },
     "execution_count": 14,
     "metadata": {},
     "output_type": "execute_result"
    }
   ],
   "source": [
    "#how many of Male and female\n",
    "data['Sex'].value_counts()"
   ]
  },
  {
   "cell_type": "code",
   "execution_count": 15,
   "id": "c147d669",
   "metadata": {
    "execution": {
     "iopub.execute_input": "2024-05-10T20:14:04.360536Z",
     "iopub.status.busy": "2024-05-10T20:14:04.359635Z",
     "iopub.status.idle": "2024-05-10T20:14:04.462055Z",
     "shell.execute_reply": "2024-05-10T20:14:04.460829Z"
    },
    "papermill": {
     "duration": 0.118027,
     "end_time": "2024-05-10T20:14:04.464855",
     "exception": false,
     "start_time": "2024-05-10T20:14:04.346828",
     "status": "completed"
    },
    "tags": []
   },
   "outputs": [
    {
     "data": {
      "text/plain": [
       "Sex     HeartDisease\n",
       "Female  No              156571\n",
       "        Yes              11234\n",
       "Male    No              135851\n",
       "        Yes              16139\n",
       "Name: HeartDisease, dtype: int64"
      ]
     },
     "execution_count": 15,
     "metadata": {},
     "output_type": "execute_result"
    }
   ],
   "source": [
    "data.groupby(['Sex','HeartDisease'])['HeartDisease'].count()\n"
   ]
  },
  {
   "cell_type": "code",
   "execution_count": 16,
   "id": "dd12997f",
   "metadata": {
    "execution": {
     "iopub.execute_input": "2024-05-10T20:14:04.488812Z",
     "iopub.status.busy": "2024-05-10T20:14:04.487956Z",
     "iopub.status.idle": "2024-05-10T20:14:04.546503Z",
     "shell.execute_reply": "2024-05-10T20:14:04.545537Z"
    },
    "papermill": {
     "duration": 0.072516,
     "end_time": "2024-05-10T20:14:04.548537",
     "exception": false,
     "start_time": "2024-05-10T20:14:04.476021",
     "status": "completed"
    },
    "tags": []
   },
   "outputs": [
    {
     "data": {
      "text/plain": [
       "AgeCategory\n",
       "65-69          34151\n",
       "60-64          33686\n",
       "70-74          31065\n",
       "55-59          29757\n",
       "50-54          25382\n",
       "80 or older    24153\n",
       "45-49          21791\n",
       "75-79          21482\n",
       "18-24          21064\n",
       "40-44          21006\n",
       "35-39          20550\n",
       "30-34          18753\n",
       "25-29          16955\n",
       "Name: count, dtype: int64"
      ]
     },
     "execution_count": 16,
     "metadata": {},
     "output_type": "execute_result"
    }
   ],
   "source": [
    "#AgeCategory frequency\n",
    "data['AgeCategory'].value_counts()"
   ]
  },
  {
   "cell_type": "code",
   "execution_count": 17,
   "id": "b35eb1ca",
   "metadata": {
    "execution": {
     "iopub.execute_input": "2024-05-10T20:14:04.570854Z",
     "iopub.status.busy": "2024-05-10T20:14:04.570298Z",
     "iopub.status.idle": "2024-05-10T20:14:04.669609Z",
     "shell.execute_reply": "2024-05-10T20:14:04.668571Z"
    },
    "papermill": {
     "duration": 0.113129,
     "end_time": "2024-05-10T20:14:04.672119",
     "exception": false,
     "start_time": "2024-05-10T20:14:04.558990",
     "status": "completed"
    },
    "tags": []
   },
   "outputs": [
    {
     "data": {
      "text/plain": [
       "AgeCategory  HeartDisease\n",
       "18-24        No              20934\n",
       "             Yes               130\n",
       "25-29        No              16822\n",
       "             Yes               133\n",
       "30-34        No              18527\n",
       "             Yes               226\n",
       "35-39        No              20254\n",
       "             Yes               296\n",
       "40-44        No              20520\n",
       "             Yes               486\n",
       "45-49        No              21047\n",
       "             Yes               744\n",
       "50-54        No              23999\n",
       "             Yes              1383\n",
       "55-59        No              27555\n",
       "             Yes              2202\n",
       "60-64        No              30359\n",
       "             Yes              3327\n",
       "65-69        No              30050\n",
       "             Yes              4101\n",
       "70-74        No              26218\n",
       "             Yes              4847\n",
       "75-79        No              17433\n",
       "             Yes              4049\n",
       "80 or older  No              18704\n",
       "             Yes              5449\n",
       "Name: HeartDisease, dtype: int64"
      ]
     },
     "execution_count": 17,
     "metadata": {},
     "output_type": "execute_result"
    }
   ],
   "source": [
    "data.groupby(['AgeCategory','HeartDisease'])['HeartDisease'].count()\n"
   ]
  },
  {
   "cell_type": "code",
   "execution_count": 18,
   "id": "753313f0",
   "metadata": {
    "execution": {
     "iopub.execute_input": "2024-05-10T20:14:04.700460Z",
     "iopub.status.busy": "2024-05-10T20:14:04.699733Z",
     "iopub.status.idle": "2024-05-10T20:14:04.762526Z",
     "shell.execute_reply": "2024-05-10T20:14:04.761544Z"
    },
    "papermill": {
     "duration": 0.078866,
     "end_time": "2024-05-10T20:14:04.764718",
     "exception": false,
     "start_time": "2024-05-10T20:14:04.685852",
     "status": "completed"
    },
    "tags": []
   },
   "outputs": [
    {
     "data": {
      "text/plain": [
       "Smoking\n",
       "No     187887\n",
       "Yes    131908\n",
       "Name: count, dtype: int64"
      ]
     },
     "execution_count": 18,
     "metadata": {},
     "output_type": "execute_result"
    }
   ],
   "source": [
    "#the count of people Smoking\n",
    "data['Smoking'].value_counts()"
   ]
  },
  {
   "cell_type": "code",
   "execution_count": 19,
   "id": "c0b0d383",
   "metadata": {
    "execution": {
     "iopub.execute_input": "2024-05-10T20:14:04.790664Z",
     "iopub.status.busy": "2024-05-10T20:14:04.789878Z",
     "iopub.status.idle": "2024-05-10T20:14:04.942825Z",
     "shell.execute_reply": "2024-05-10T20:14:04.941813Z"
    },
    "papermill": {
     "duration": 0.167661,
     "end_time": "2024-05-10T20:14:04.944923",
     "exception": false,
     "start_time": "2024-05-10T20:14:04.777262",
     "status": "completed"
    },
    "tags": []
   },
   "outputs": [
    {
     "data": {
      "text/plain": [
       "Sex     AgeCategory  Smoking  HeartDisease\n",
       "Female  18-24        No       No              8252\n",
       "                              Yes               40\n",
       "                     Yes      No              1132\n",
       "                              Yes               10\n",
       "        25-29        No       No              5918\n",
       "                                              ... \n",
       "Male    75-79        Yes      Yes             1563\n",
       "        80 or older  No       No              3007\n",
       "                              Yes             1092\n",
       "                     Yes      No              3609\n",
       "                              Yes             1729\n",
       "Name: HeartDisease, Length: 104, dtype: int64"
      ]
     },
     "execution_count": 19,
     "metadata": {},
     "output_type": "execute_result"
    }
   ],
   "source": [
    "data.groupby(['Sex','AgeCategory','Smoking','HeartDisease'])['HeartDisease'].count()\n"
   ]
  },
  {
   "cell_type": "code",
   "execution_count": 20,
   "id": "b2ae4aba",
   "metadata": {
    "execution": {
     "iopub.execute_input": "2024-05-10T20:14:04.969310Z",
     "iopub.status.busy": "2024-05-10T20:14:04.968951Z",
     "iopub.status.idle": "2024-05-10T20:14:05.027799Z",
     "shell.execute_reply": "2024-05-10T20:14:05.026771Z"
    },
    "papermill": {
     "duration": 0.07365,
     "end_time": "2024-05-10T20:14:05.029993",
     "exception": false,
     "start_time": "2024-05-10T20:14:04.956343",
     "status": "completed"
    },
    "tags": []
   },
   "outputs": [
    {
     "data": {
      "text/plain": [
       "AlcoholDrinking\n",
       "No     298018\n",
       "Yes     21777\n",
       "Name: count, dtype: int64"
      ]
     },
     "execution_count": 20,
     "metadata": {},
     "output_type": "execute_result"
    }
   ],
   "source": [
    "# I want to Know how many people drink the AlcoholDrinking or not\n",
    "data['AlcoholDrinking'].value_counts()"
   ]
  },
  {
   "cell_type": "code",
   "execution_count": 21,
   "id": "c576b187",
   "metadata": {
    "execution": {
     "iopub.execute_input": "2024-05-10T20:14:05.054546Z",
     "iopub.status.busy": "2024-05-10T20:14:05.053893Z",
     "iopub.status.idle": "2024-05-10T20:14:05.147814Z",
     "shell.execute_reply": "2024-05-10T20:14:05.146867Z"
    },
    "papermill": {
     "duration": 0.108543,
     "end_time": "2024-05-10T20:14:05.150023",
     "exception": false,
     "start_time": "2024-05-10T20:14:05.041480",
     "status": "completed"
    },
    "tags": []
   },
   "outputs": [
    {
     "data": {
      "text/plain": [
       "AlcoholDrinking  HeartDisease\n",
       "No               No              271786\n",
       "                 Yes              26232\n",
       "Yes              No               20636\n",
       "                 Yes               1141\n",
       "Name: HeartDisease, dtype: int64"
      ]
     },
     "execution_count": 21,
     "metadata": {},
     "output_type": "execute_result"
    }
   ],
   "source": [
    "data.groupby(['AlcoholDrinking','HeartDisease'])['HeartDisease'].count()\n"
   ]
  },
  {
   "cell_type": "code",
   "execution_count": 22,
   "id": "365d16e2",
   "metadata": {
    "execution": {
     "iopub.execute_input": "2024-05-10T20:14:05.175849Z",
     "iopub.status.busy": "2024-05-10T20:14:05.175028Z",
     "iopub.status.idle": "2024-05-10T20:14:05.358963Z",
     "shell.execute_reply": "2024-05-10T20:14:05.357994Z"
    },
    "papermill": {
     "duration": 0.199136,
     "end_time": "2024-05-10T20:14:05.361272",
     "exception": false,
     "start_time": "2024-05-10T20:14:05.162136",
     "status": "completed"
    },
    "tags": []
   },
   "outputs": [
    {
     "data": {
      "text/plain": [
       "Sex     AgeCategory  AlcoholDrinking  PhysicalActivity  HeartDisease\n",
       "Female  18-24        No               No                No              1427\n",
       "                                                        Yes                9\n",
       "                                      Yes               No              7222\n",
       "                                                        Yes               38\n",
       "                     Yes              No                No                66\n",
       "                                                                        ... \n",
       "Male    80 or older  No               Yes               Yes             1791\n",
       "                     Yes              No                No                59\n",
       "                                                        Yes               34\n",
       "                                      Yes               No               128\n",
       "                                                        Yes               41\n",
       "Name: HeartDisease, Length: 208, dtype: int64"
      ]
     },
     "execution_count": 22,
     "metadata": {},
     "output_type": "execute_result"
    }
   ],
   "source": [
    "data.groupby(['Sex','AgeCategory','AlcoholDrinking','PhysicalActivity','HeartDisease'])['HeartDisease'].count()\n"
   ]
  },
  {
   "cell_type": "code",
   "execution_count": 23,
   "id": "033fee39",
   "metadata": {
    "execution": {
     "iopub.execute_input": "2024-05-10T20:14:05.387733Z",
     "iopub.status.busy": "2024-05-10T20:14:05.387161Z",
     "iopub.status.idle": "2024-05-10T20:14:05.444960Z",
     "shell.execute_reply": "2024-05-10T20:14:05.444072Z"
    },
    "papermill": {
     "duration": 0.07256,
     "end_time": "2024-05-10T20:14:05.446940",
     "exception": false,
     "start_time": "2024-05-10T20:14:05.374380",
     "status": "completed"
    },
    "tags": []
   },
   "outputs": [
    {
     "data": {
      "text/plain": [
       "KidneyDisease\n",
       "No     308016\n",
       "Yes     11779\n",
       "Name: count, dtype: int64"
      ]
     },
     "execution_count": 23,
     "metadata": {},
     "output_type": "execute_result"
    }
   ],
   "source": [
    "#I want to know how many people have KidneyDisease\n",
    "data['KidneyDisease'].value_counts()"
   ]
  },
  {
   "cell_type": "code",
   "execution_count": 24,
   "id": "f31ae2da",
   "metadata": {
    "execution": {
     "iopub.execute_input": "2024-05-10T20:14:05.472746Z",
     "iopub.status.busy": "2024-05-10T20:14:05.472020Z",
     "iopub.status.idle": "2024-05-10T20:14:05.567580Z",
     "shell.execute_reply": "2024-05-10T20:14:05.566577Z"
    },
    "papermill": {
     "duration": 0.111025,
     "end_time": "2024-05-10T20:14:05.569922",
     "exception": false,
     "start_time": "2024-05-10T20:14:05.458897",
     "status": "completed"
    },
    "tags": []
   },
   "outputs": [
    {
     "data": {
      "text/plain": [
       "KidneyDisease  HeartDisease\n",
       "No             No              284098\n",
       "               Yes              23918\n",
       "Yes            No                8324\n",
       "               Yes               3455\n",
       "Name: HeartDisease, dtype: int64"
      ]
     },
     "execution_count": 24,
     "metadata": {},
     "output_type": "execute_result"
    }
   ],
   "source": [
    "#show the peolple who have KidneyDisease and HeartDisease\n",
    "data.groupby(['KidneyDisease','HeartDisease'])['HeartDisease'].count()"
   ]
  },
  {
   "cell_type": "code",
   "execution_count": 25,
   "id": "e9c255f5",
   "metadata": {
    "execution": {
     "iopub.execute_input": "2024-05-10T20:14:05.597558Z",
     "iopub.status.busy": "2024-05-10T20:14:05.596386Z",
     "iopub.status.idle": "2024-05-10T20:14:05.722243Z",
     "shell.execute_reply": "2024-05-10T20:14:05.721190Z"
    },
    "papermill": {
     "duration": 0.142035,
     "end_time": "2024-05-10T20:14:05.724609",
     "exception": false,
     "start_time": "2024-05-10T20:14:05.582574",
     "status": "completed"
    },
    "tags": []
   },
   "outputs": [
    {
     "data": {
      "text/plain": [
       "Sex     KidneyDisease  HeartDisease\n",
       "Female  No             No              151743\n",
       "                       Yes               9608\n",
       "        Yes            No                4828\n",
       "                       Yes               1626\n",
       "Male    No             No              132355\n",
       "                       Yes              14310\n",
       "        Yes            No                3496\n",
       "                       Yes               1829\n",
       "Name: HeartDisease, dtype: int64"
      ]
     },
     "execution_count": 25,
     "metadata": {},
     "output_type": "execute_result"
    }
   ],
   "source": [
    "data.groupby(['Sex','KidneyDisease','HeartDisease'])['HeartDisease'].count()\n"
   ]
  },
  {
   "cell_type": "code",
   "execution_count": 26,
   "id": "21a4d923",
   "metadata": {
    "execution": {
     "iopub.execute_input": "2024-05-10T20:14:05.751882Z",
     "iopub.status.busy": "2024-05-10T20:14:05.751546Z",
     "iopub.status.idle": "2024-05-10T20:14:05.848685Z",
     "shell.execute_reply": "2024-05-10T20:14:05.847759Z"
    },
    "papermill": {
     "duration": 0.113425,
     "end_time": "2024-05-10T20:14:05.850814",
     "exception": false,
     "start_time": "2024-05-10T20:14:05.737389",
     "status": "completed"
    },
    "tags": []
   },
   "outputs": [
    {
     "data": {
      "text/plain": [
       "Sex     KidneyDisease\n",
       "Female  No               161351\n",
       "        Yes                6454\n",
       "Male    No               146665\n",
       "        Yes                5325\n",
       "Name: KidneyDisease, dtype: int64"
      ]
     },
     "execution_count": 26,
     "metadata": {},
     "output_type": "execute_result"
    }
   ],
   "source": [
    "data.groupby(['Sex','KidneyDisease'])['KidneyDisease'].count()\n"
   ]
  },
  {
   "cell_type": "code",
   "execution_count": null,
   "id": "c27b278e",
   "metadata": {
    "papermill": {
     "duration": 0.012166,
     "end_time": "2024-05-10T20:14:05.875965",
     "exception": false,
     "start_time": "2024-05-10T20:14:05.863799",
     "status": "completed"
    },
    "tags": []
   },
   "outputs": [],
   "source": []
  },
  {
   "cell_type": "code",
   "execution_count": null,
   "id": "c7008e9f",
   "metadata": {
    "papermill": {
     "duration": 0.012884,
     "end_time": "2024-05-10T20:14:05.901231",
     "exception": false,
     "start_time": "2024-05-10T20:14:05.888347",
     "status": "completed"
    },
    "tags": []
   },
   "outputs": [],
   "source": []
  },
  {
   "cell_type": "code",
   "execution_count": null,
   "id": "b6d0a08e",
   "metadata": {
    "papermill": {
     "duration": 0.012787,
     "end_time": "2024-05-10T20:14:05.927469",
     "exception": false,
     "start_time": "2024-05-10T20:14:05.914682",
     "status": "completed"
    },
    "tags": []
   },
   "outputs": [],
   "source": []
  }
 ],
 "metadata": {
  "kaggle": {
   "accelerator": "nvidiaTeslaT4",
   "dataSources": [
    {
     "datasetId": 4982454,
     "sourceId": 8378883,
     "sourceType": "datasetVersion"
    }
   ],
   "dockerImageVersionId": 30698,
   "isGpuEnabled": true,
   "isInternetEnabled": false,
   "language": "python",
   "sourceType": "notebook"
  },
  "kernelspec": {
   "display_name": "Python 3",
   "language": "python",
   "name": "python3"
  },
  "language_info": {
   "codemirror_mode": {
    "name": "ipython",
    "version": 3
   },
   "file_extension": ".py",
   "mimetype": "text/x-python",
   "name": "python",
   "nbconvert_exporter": "python",
   "pygments_lexer": "ipython3",
   "version": "3.10.13"
  },
  "papermill": {
   "default_parameters": {},
   "duration": 10.386305,
   "end_time": "2024-05-10T20:14:06.361148",
   "environment_variables": {},
   "exception": null,
   "input_path": "__notebook__.ipynb",
   "output_path": "__notebook__.ipynb",
   "parameters": {},
   "start_time": "2024-05-10T20:13:55.974843",
   "version": "2.5.0"
  }
 },
 "nbformat": 4,
 "nbformat_minor": 5
}
