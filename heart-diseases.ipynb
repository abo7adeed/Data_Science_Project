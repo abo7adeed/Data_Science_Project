{
 "cells": [
  {
   "cell_type": "markdown",
   "id": "4956072c",
   "metadata": {
    "papermill": {
     "duration": 0.013451,
     "end_time": "2024-05-11T00:03:38.135930",
     "exception": false,
     "start_time": "2024-05-11T00:03:38.122479",
     "status": "completed"
    },
    "tags": []
   },
   "source": [
    "\n",
    "\n",
    "Project Structure\n",
    "\n",
    "1_Data Loading and Exploration\n",
    "\n",
    "Load the trading data and explore its characteristics.\n",
    "Visualize key aspects such as distributions and time series trends.\n",
    "\n",
    "2_Data Preprocessing\n",
    "\n",
    "Clean the data by handling missing values and outliers.\n",
    "Prepare the data for modeling through feature selection based on strong                 correlations.\n",
    "\n",
    "3_ Data Analysis & Visualization\n",
    "\n",
    "to understanding the data to communicating insights derived from the model's           predictions. They facilitate better decision-making and help ensure that the model     is  accurate\n",
    "\n",
    "4_ Model Building\n",
    "\n",
    "5_Machine Learning Algorithms\n",
    "\n",
    "in Machine Learning  various Algorithms can be employed to train model and make         predictions based on the provided data.here are Machine Learning Algorithms which       we used in the model:\n",
    "\n",
    "        Random forest classifier\n",
    "        XGB Classifier \n",
    "       Voting classifier\n",
    "       K-Nearest Neighbors classifier\n",
    "       Decision Trees classifier\n",
    "       Random Forestclassifier\n",
    "       Gradient Boosting classifier\n",
    "\n",
    "6_prediction:\n",
    "\n",
    "Prediction is a fundamental aspect of modeling that provides several important         benefits across various domains\n",
    "\n",
    "7_Model Deployment Use\n",
    "\n",
    " once the Machine Learning model for predicting heart disease has been train and        evaluated. it can be  deployed and utilized in real_world scenarios to assist in        early detection and prevention efforts.\n",
    "\n"
   ]
  },
  {
   "cell_type": "code",
   "execution_count": 1,
   "id": "987bf710",
   "metadata": {
    "_cell_guid": "b1076dfc-b9ad-4769-8c92-a6c4dae69d19",
    "_uuid": "8f2839f25d086af736a60e9eeb907d3b93b6e0e5",
    "execution": {
     "iopub.execute_input": "2024-05-11T00:03:38.163913Z",
     "iopub.status.busy": "2024-05-11T00:03:38.163478Z",
     "iopub.status.idle": "2024-05-11T00:03:38.978897Z",
     "shell.execute_reply": "2024-05-11T00:03:38.977620Z"
    },
    "papermill": {
     "duration": 0.832574,
     "end_time": "2024-05-11T00:03:38.981548",
     "exception": false,
     "start_time": "2024-05-11T00:03:38.148974",
     "status": "completed"
    },
    "tags": []
   },
   "outputs": [
    {
     "name": "stdout",
     "output_type": "stream",
     "text": [
      "/kaggle/input/personal-key-indicators-of-heart-disease/2020/heart_2020_cleaned.csv\n",
      "/kaggle/input/personal-key-indicators-of-heart-disease/2022/heart_2022_with_nans.csv\n",
      "/kaggle/input/personal-key-indicators-of-heart-disease/2022/heart_2022_no_nans.csv\n",
      "/kaggle/input/heart-disease/heart_disease.csv\n"
     ]
    }
   ],
   "source": [
    "# This Python 3 environment comes with many helpful analytics libraries installed\n",
    "# It is defined by the kaggle/python Docker image: https://github.com/kaggle/docker-python\n",
    "# For example, here's several helpful packages to load\n",
    "\n",
    "import numpy as np # linear algebra\n",
    "import pandas as pd # data processing, CSV file I/O (e.g. pd.read_csv)\n",
    "\n",
    "# Input data files are available in the read-only \"../input/\" directory\n",
    "# For example, running this (by clicking run or pressing Shift+Enter) will list all files under the input directory\n",
    "\n",
    "import os\n",
    "for dirname, _, filenames in os.walk('/kaggle/input'):\n",
    "    for filename in filenames:\n",
    "        print(os.path.join(dirname, filename))\n",
    "\n",
    "# You can write up to 20GB to the current directory (/kaggle/working/) that gets preserved as output when you create a version using \"Save & Run All\" \n",
    "# You can also write temporary files to /kaggle/temp/, but they won't be saved outside of the current session"
   ]
  },
  {
   "cell_type": "code",
   "execution_count": 2,
   "id": "d7899401",
   "metadata": {
    "execution": {
     "iopub.execute_input": "2024-05-11T00:03:39.008787Z",
     "iopub.status.busy": "2024-05-11T00:03:39.008244Z",
     "iopub.status.idle": "2024-05-11T00:03:41.016121Z",
     "shell.execute_reply": "2024-05-11T00:03:41.014926Z"
    },
    "papermill": {
     "duration": 2.024645,
     "end_time": "2024-05-11T00:03:41.018736",
     "exception": false,
     "start_time": "2024-05-11T00:03:38.994091",
     "status": "completed"
    },
    "tags": []
   },
   "outputs": [],
   "source": [
    "#libraries\n",
    "import numpy as np\n",
    "import pandas as pd\n",
    "import matplotlib.pyplot as plt\n",
    "import seaborn as sns\n",
    "%matplotlib inline\n",
    "sns.set()\n",
    "#preprocess\n",
    "from sklearn.model_selection import train_test_split\n",
    "from sklearn.preprocessing import MinMaxScaler\n",
    "from imblearn.over_sampling import SMOTE\n",
    "from sklearn.preprocessing import LabelEncoder\n",
    "from sklearn.feature_selection import SelectFromModel\n",
    "#models\n",
    "from sklearn.model_selection import GridSearchCV\n",
    "from sklearn.ensemble import RandomForestClassifier\n",
    "from sklearn.ensemble import GradientBoostingClassifier\n",
    "from sklearn.neighbors import KNeighborsClassifier\n",
    "from sklearn.ensemble import VotingClassifier\n",
    "import xgboost as xgb\n",
    "from sklearn.tree import DecisionTreeClassifier\n",
    "#check\n",
    "from sklearn.metrics import confusion_matrix\n",
    "from sklearn.metrics import classification_report\n",
    "from sklearn.metrics import accuracy_score\n",
    "from sklearn.metrics import f1_score\n",
    "from sklearn.metrics import recall_score\n",
    "from sklearn.metrics import precision_score\n",
    "#save\n",
    "import pickle as pk"
   ]
  },
  {
   "cell_type": "code",
   "execution_count": 3,
   "id": "71d6ee51",
   "metadata": {
    "execution": {
     "iopub.execute_input": "2024-05-11T00:03:41.046770Z",
     "iopub.status.busy": "2024-05-11T00:03:41.046189Z",
     "iopub.status.idle": "2024-05-11T00:03:42.236217Z",
     "shell.execute_reply": "2024-05-11T00:03:42.235016Z"
    },
    "papermill": {
     "duration": 1.207688,
     "end_time": "2024-05-11T00:03:42.239104",
     "exception": false,
     "start_time": "2024-05-11T00:03:41.031416",
     "status": "completed"
    },
    "tags": []
   },
   "outputs": [],
   "source": [
    "# Loading Data \n",
    "files = os.listdir('/kaggle/input/heart-disease')\n",
    "\n",
    "# Read each file\n",
    "for file in files:\n",
    "    if file.endswith('.csv'):\n",
    "        data = pd.read_csv(os.path.join('/kaggle/input/heart-disease', file))"
   ]
  },
  {
   "cell_type": "code",
   "execution_count": 4,
   "id": "717bae55",
   "metadata": {
    "execution": {
     "iopub.execute_input": "2024-05-11T00:03:42.267175Z",
     "iopub.status.busy": "2024-05-11T00:03:42.266780Z",
     "iopub.status.idle": "2024-05-11T00:03:42.275043Z",
     "shell.execute_reply": "2024-05-11T00:03:42.274001Z"
    },
    "papermill": {
     "duration": 0.025266,
     "end_time": "2024-05-11T00:03:42.277353",
     "exception": false,
     "start_time": "2024-05-11T00:03:42.252087",
     "status": "completed"
    },
    "tags": []
   },
   "outputs": [
    {
     "data": {
      "text/plain": [
       "(319795, 18)"
      ]
     },
     "execution_count": 4,
     "metadata": {},
     "output_type": "execute_result"
    }
   ],
   "source": [
    "data.shape"
   ]
  },
  {
   "cell_type": "code",
   "execution_count": 5,
   "id": "f63da856",
   "metadata": {
    "execution": {
     "iopub.execute_input": "2024-05-11T00:03:42.304992Z",
     "iopub.status.busy": "2024-05-11T00:03:42.304593Z",
     "iopub.status.idle": "2024-05-11T00:03:42.333373Z",
     "shell.execute_reply": "2024-05-11T00:03:42.332255Z"
    },
    "papermill": {
     "duration": 0.045327,
     "end_time": "2024-05-11T00:03:42.335695",
     "exception": false,
     "start_time": "2024-05-11T00:03:42.290368",
     "status": "completed"
    },
    "tags": []
   },
   "outputs": [
    {
     "data": {
      "text/plain": [
       "<bound method DataFrame.info of        HeartDisease    BMI Smoking AlcoholDrinking Stroke  PhysicalHealth  \\\n",
       "0                No  16.60     Yes              No     No             3.0   \n",
       "1                No  20.34      No              No    Yes             0.0   \n",
       "2                No  26.58     Yes              No     No            20.0   \n",
       "3                No  24.21      No              No     No             0.0   \n",
       "4                No  23.71      No              No     No            28.0   \n",
       "...             ...    ...     ...             ...    ...             ...   \n",
       "319790          Yes  27.41     Yes              No     No             7.0   \n",
       "319791           No  29.84     Yes              No     No             0.0   \n",
       "319792           No  24.24      No              No     No             0.0   \n",
       "319793           No  32.81      No              No     No             0.0   \n",
       "319794           No  46.56      No              No     No             0.0   \n",
       "\n",
       "        MentalHealth DiffWalking     Sex  AgeCategory      Race Diabetic  \\\n",
       "0               30.0          No  Female        55-59     White      Yes   \n",
       "1                0.0          No  Female  80 or older     White       No   \n",
       "2               30.0          No    Male        65-69     White      Yes   \n",
       "3                0.0          No  Female        75-79     White       No   \n",
       "4                0.0         Yes  Female        40-44     White       No   \n",
       "...              ...         ...     ...          ...       ...      ...   \n",
       "319790           0.0         Yes    Male        60-64  Hispanic      Yes   \n",
       "319791           0.0          No    Male        35-39  Hispanic       No   \n",
       "319792           0.0          No  Female        45-49  Hispanic       No   \n",
       "319793           0.0          No  Female        25-29  Hispanic       No   \n",
       "319794           0.0          No  Female  80 or older  Hispanic       No   \n",
       "\n",
       "       PhysicalActivity  GenHealth  SleepTime Asthma KidneyDisease SkinCancer  \n",
       "0                   Yes  Very good        5.0    Yes            No        Yes  \n",
       "1                   Yes  Very good        7.0     No            No         No  \n",
       "2                   Yes       Fair        8.0    Yes            No         No  \n",
       "3                    No       Good        6.0     No            No        Yes  \n",
       "4                   Yes  Very good        8.0     No            No         No  \n",
       "...                 ...        ...        ...    ...           ...        ...  \n",
       "319790               No       Fair        6.0    Yes            No         No  \n",
       "319791              Yes  Very good        5.0    Yes            No         No  \n",
       "319792              Yes       Good        6.0     No            No         No  \n",
       "319793               No       Good       12.0     No            No         No  \n",
       "319794              Yes       Good        8.0     No            No         No  \n",
       "\n",
       "[319795 rows x 18 columns]>"
      ]
     },
     "execution_count": 5,
     "metadata": {},
     "output_type": "execute_result"
    }
   ],
   "source": [
    "data.info"
   ]
  },
  {
   "cell_type": "code",
   "execution_count": 6,
   "id": "29ff44a0",
   "metadata": {
    "execution": {
     "iopub.execute_input": "2024-05-11T00:03:42.363521Z",
     "iopub.status.busy": "2024-05-11T00:03:42.362707Z",
     "iopub.status.idle": "2024-05-11T00:03:42.369948Z",
     "shell.execute_reply": "2024-05-11T00:03:42.368992Z"
    },
    "papermill": {
     "duration": 0.023656,
     "end_time": "2024-05-11T00:03:42.372307",
     "exception": false,
     "start_time": "2024-05-11T00:03:42.348651",
     "status": "completed"
    },
    "tags": []
   },
   "outputs": [
    {
     "data": {
      "text/plain": [
       "Index(['HeartDisease', 'BMI', 'Smoking', 'AlcoholDrinking', 'Stroke',\n",
       "       'PhysicalHealth', 'MentalHealth', 'DiffWalking', 'Sex', 'AgeCategory',\n",
       "       'Race', 'Diabetic', 'PhysicalActivity', 'GenHealth', 'SleepTime',\n",
       "       'Asthma', 'KidneyDisease', 'SkinCancer'],\n",
       "      dtype='object')"
      ]
     },
     "execution_count": 6,
     "metadata": {},
     "output_type": "execute_result"
    }
   ],
   "source": [
    "data.columns"
   ]
  },
  {
   "cell_type": "code",
   "execution_count": 7,
   "id": "43fa10da",
   "metadata": {
    "execution": {
     "iopub.execute_input": "2024-05-11T00:03:42.402356Z",
     "iopub.status.busy": "2024-05-11T00:03:42.401377Z",
     "iopub.status.idle": "2024-05-11T00:03:42.418974Z",
     "shell.execute_reply": "2024-05-11T00:03:42.417905Z"
    },
    "papermill": {
     "duration": 0.035048,
     "end_time": "2024-05-11T00:03:42.421258",
     "exception": false,
     "start_time": "2024-05-11T00:03:42.386210",
     "status": "completed"
    },
    "tags": []
   },
   "outputs": [
    {
     "data": {
      "text/plain": [
       "<bound method NDFrame.describe of        HeartDisease    BMI Smoking AlcoholDrinking Stroke  PhysicalHealth  \\\n",
       "0                No  16.60     Yes              No     No             3.0   \n",
       "1                No  20.34      No              No    Yes             0.0   \n",
       "2                No  26.58     Yes              No     No            20.0   \n",
       "3                No  24.21      No              No     No             0.0   \n",
       "4                No  23.71      No              No     No            28.0   \n",
       "...             ...    ...     ...             ...    ...             ...   \n",
       "319790          Yes  27.41     Yes              No     No             7.0   \n",
       "319791           No  29.84     Yes              No     No             0.0   \n",
       "319792           No  24.24      No              No     No             0.0   \n",
       "319793           No  32.81      No              No     No             0.0   \n",
       "319794           No  46.56      No              No     No             0.0   \n",
       "\n",
       "        MentalHealth DiffWalking     Sex  AgeCategory      Race Diabetic  \\\n",
       "0               30.0          No  Female        55-59     White      Yes   \n",
       "1                0.0          No  Female  80 or older     White       No   \n",
       "2               30.0          No    Male        65-69     White      Yes   \n",
       "3                0.0          No  Female        75-79     White       No   \n",
       "4                0.0         Yes  Female        40-44     White       No   \n",
       "...              ...         ...     ...          ...       ...      ...   \n",
       "319790           0.0         Yes    Male        60-64  Hispanic      Yes   \n",
       "319791           0.0          No    Male        35-39  Hispanic       No   \n",
       "319792           0.0          No  Female        45-49  Hispanic       No   \n",
       "319793           0.0          No  Female        25-29  Hispanic       No   \n",
       "319794           0.0          No  Female  80 or older  Hispanic       No   \n",
       "\n",
       "       PhysicalActivity  GenHealth  SleepTime Asthma KidneyDisease SkinCancer  \n",
       "0                   Yes  Very good        5.0    Yes            No        Yes  \n",
       "1                   Yes  Very good        7.0     No            No         No  \n",
       "2                   Yes       Fair        8.0    Yes            No         No  \n",
       "3                    No       Good        6.0     No            No        Yes  \n",
       "4                   Yes  Very good        8.0     No            No         No  \n",
       "...                 ...        ...        ...    ...           ...        ...  \n",
       "319790               No       Fair        6.0    Yes            No         No  \n",
       "319791              Yes  Very good        5.0    Yes            No         No  \n",
       "319792              Yes       Good        6.0     No            No         No  \n",
       "319793               No       Good       12.0     No            No         No  \n",
       "319794              Yes       Good        8.0     No            No         No  \n",
       "\n",
       "[319795 rows x 18 columns]>"
      ]
     },
     "execution_count": 7,
     "metadata": {},
     "output_type": "execute_result"
    }
   ],
   "source": [
    "data.describe"
   ]
  },
  {
   "cell_type": "code",
   "execution_count": 8,
   "id": "80656d3b",
   "metadata": {
    "execution": {
     "iopub.execute_input": "2024-05-11T00:03:42.451434Z",
     "iopub.status.busy": "2024-05-11T00:03:42.450990Z",
     "iopub.status.idle": "2024-05-11T00:03:43.765773Z",
     "shell.execute_reply": "2024-05-11T00:03:43.764632Z"
    },
    "papermill": {
     "duration": 1.332253,
     "end_time": "2024-05-11T00:03:43.768040",
     "exception": false,
     "start_time": "2024-05-11T00:03:42.435787",
     "status": "completed"
    },
    "tags": []
   },
   "outputs": [
    {
     "data": {
      "text/html": [
       "<div>\n",
       "<style scoped>\n",
       "    .dataframe tbody tr th:only-of-type {\n",
       "        vertical-align: middle;\n",
       "    }\n",
       "\n",
       "    .dataframe tbody tr th {\n",
       "        vertical-align: top;\n",
       "    }\n",
       "\n",
       "    .dataframe thead th {\n",
       "        text-align: right;\n",
       "    }\n",
       "</style>\n",
       "<table border=\"1\" class=\"dataframe\">\n",
       "  <thead>\n",
       "    <tr style=\"text-align: right;\">\n",
       "      <th></th>\n",
       "      <th>count</th>\n",
       "      <th>unique</th>\n",
       "      <th>top</th>\n",
       "      <th>freq</th>\n",
       "    </tr>\n",
       "  </thead>\n",
       "  <tbody>\n",
       "    <tr>\n",
       "      <th>HeartDisease</th>\n",
       "      <td>319795</td>\n",
       "      <td>2</td>\n",
       "      <td>No</td>\n",
       "      <td>292422</td>\n",
       "    </tr>\n",
       "    <tr>\n",
       "      <th>Smoking</th>\n",
       "      <td>319795</td>\n",
       "      <td>2</td>\n",
       "      <td>No</td>\n",
       "      <td>187887</td>\n",
       "    </tr>\n",
       "    <tr>\n",
       "      <th>AlcoholDrinking</th>\n",
       "      <td>319795</td>\n",
       "      <td>2</td>\n",
       "      <td>No</td>\n",
       "      <td>298018</td>\n",
       "    </tr>\n",
       "    <tr>\n",
       "      <th>Stroke</th>\n",
       "      <td>319795</td>\n",
       "      <td>2</td>\n",
       "      <td>No</td>\n",
       "      <td>307726</td>\n",
       "    </tr>\n",
       "    <tr>\n",
       "      <th>DiffWalking</th>\n",
       "      <td>319795</td>\n",
       "      <td>2</td>\n",
       "      <td>No</td>\n",
       "      <td>275385</td>\n",
       "    </tr>\n",
       "    <tr>\n",
       "      <th>Sex</th>\n",
       "      <td>319795</td>\n",
       "      <td>2</td>\n",
       "      <td>Female</td>\n",
       "      <td>167805</td>\n",
       "    </tr>\n",
       "    <tr>\n",
       "      <th>AgeCategory</th>\n",
       "      <td>319795</td>\n",
       "      <td>13</td>\n",
       "      <td>65-69</td>\n",
       "      <td>34151</td>\n",
       "    </tr>\n",
       "    <tr>\n",
       "      <th>Race</th>\n",
       "      <td>319795</td>\n",
       "      <td>6</td>\n",
       "      <td>White</td>\n",
       "      <td>245212</td>\n",
       "    </tr>\n",
       "    <tr>\n",
       "      <th>Diabetic</th>\n",
       "      <td>319795</td>\n",
       "      <td>4</td>\n",
       "      <td>No</td>\n",
       "      <td>269653</td>\n",
       "    </tr>\n",
       "    <tr>\n",
       "      <th>PhysicalActivity</th>\n",
       "      <td>319795</td>\n",
       "      <td>2</td>\n",
       "      <td>Yes</td>\n",
       "      <td>247957</td>\n",
       "    </tr>\n",
       "    <tr>\n",
       "      <th>GenHealth</th>\n",
       "      <td>319795</td>\n",
       "      <td>5</td>\n",
       "      <td>Very good</td>\n",
       "      <td>113858</td>\n",
       "    </tr>\n",
       "    <tr>\n",
       "      <th>Asthma</th>\n",
       "      <td>319795</td>\n",
       "      <td>2</td>\n",
       "      <td>No</td>\n",
       "      <td>276923</td>\n",
       "    </tr>\n",
       "    <tr>\n",
       "      <th>KidneyDisease</th>\n",
       "      <td>319795</td>\n",
       "      <td>2</td>\n",
       "      <td>No</td>\n",
       "      <td>308016</td>\n",
       "    </tr>\n",
       "    <tr>\n",
       "      <th>SkinCancer</th>\n",
       "      <td>319795</td>\n",
       "      <td>2</td>\n",
       "      <td>No</td>\n",
       "      <td>289976</td>\n",
       "    </tr>\n",
       "  </tbody>\n",
       "</table>\n",
       "</div>"
      ],
      "text/plain": [
       "                   count unique        top    freq\n",
       "HeartDisease      319795      2         No  292422\n",
       "Smoking           319795      2         No  187887\n",
       "AlcoholDrinking   319795      2         No  298018\n",
       "Stroke            319795      2         No  307726\n",
       "DiffWalking       319795      2         No  275385\n",
       "Sex               319795      2     Female  167805\n",
       "AgeCategory       319795     13      65-69   34151\n",
       "Race              319795      6      White  245212\n",
       "Diabetic          319795      4         No  269653\n",
       "PhysicalActivity  319795      2        Yes  247957\n",
       "GenHealth         319795      5  Very good  113858\n",
       "Asthma            319795      2         No  276923\n",
       "KidneyDisease     319795      2         No  308016\n",
       "SkinCancer        319795      2         No  289976"
      ]
     },
     "execution_count": 8,
     "metadata": {},
     "output_type": "execute_result"
    }
   ],
   "source": [
    "data.describe(include='O').transpose()"
   ]
  },
  {
   "cell_type": "code",
   "execution_count": 9,
   "id": "9b78a337",
   "metadata": {
    "execution": {
     "iopub.execute_input": "2024-05-11T00:03:43.798325Z",
     "iopub.status.busy": "2024-05-11T00:03:43.797393Z",
     "iopub.status.idle": "2024-05-11T00:03:44.269015Z",
     "shell.execute_reply": "2024-05-11T00:03:44.267921Z"
    },
    "papermill": {
     "duration": 0.489488,
     "end_time": "2024-05-11T00:03:44.271480",
     "exception": false,
     "start_time": "2024-05-11T00:03:43.781992",
     "status": "completed"
    },
    "tags": []
   },
   "outputs": [
    {
     "data": {
      "text/plain": [
       "HeartDisease        0\n",
       "BMI                 0\n",
       "Smoking             0\n",
       "AlcoholDrinking     0\n",
       "Stroke              0\n",
       "PhysicalHealth      0\n",
       "MentalHealth        0\n",
       "DiffWalking         0\n",
       "Sex                 0\n",
       "AgeCategory         0\n",
       "Race                0\n",
       "Diabetic            0\n",
       "PhysicalActivity    0\n",
       "GenHealth           0\n",
       "SleepTime           0\n",
       "Asthma              0\n",
       "KidneyDisease       0\n",
       "SkinCancer          0\n",
       "dtype: int64"
      ]
     },
     "execution_count": 9,
     "metadata": {},
     "output_type": "execute_result"
    }
   ],
   "source": [
    "data.isna().sum()"
   ]
  },
  {
   "cell_type": "code",
   "execution_count": 10,
   "id": "151295f9",
   "metadata": {
    "execution": {
     "iopub.execute_input": "2024-05-11T00:03:44.302412Z",
     "iopub.status.busy": "2024-05-11T00:03:44.301360Z",
     "iopub.status.idle": "2024-05-11T00:03:44.781432Z",
     "shell.execute_reply": "2024-05-11T00:03:44.780342Z"
    },
    "papermill": {
     "duration": 0.498152,
     "end_time": "2024-05-11T00:03:44.783908",
     "exception": false,
     "start_time": "2024-05-11T00:03:44.285756",
     "status": "completed"
    },
    "tags": []
   },
   "outputs": [
    {
     "data": {
      "text/plain": [
       "False"
      ]
     },
     "execution_count": 10,
     "metadata": {},
     "output_type": "execute_result"
    }
   ],
   "source": [
    "data.isna().values.any()"
   ]
  },
  {
   "cell_type": "code",
   "execution_count": 11,
   "id": "3f2d923e",
   "metadata": {
    "execution": {
     "iopub.execute_input": "2024-05-11T00:03:44.814630Z",
     "iopub.status.busy": "2024-05-11T00:03:44.813490Z",
     "iopub.status.idle": "2024-05-11T00:03:45.270912Z",
     "shell.execute_reply": "2024-05-11T00:03:45.269493Z"
    },
    "papermill": {
     "duration": 0.475182,
     "end_time": "2024-05-11T00:03:45.273259",
     "exception": false,
     "start_time": "2024-05-11T00:03:44.798077",
     "status": "completed"
    },
    "tags": []
   },
   "outputs": [
    {
     "data": {
      "text/html": [
       "<div>\n",
       "<style scoped>\n",
       "    .dataframe tbody tr th:only-of-type {\n",
       "        vertical-align: middle;\n",
       "    }\n",
       "\n",
       "    .dataframe tbody tr th {\n",
       "        vertical-align: top;\n",
       "    }\n",
       "\n",
       "    .dataframe thead th {\n",
       "        text-align: right;\n",
       "    }\n",
       "</style>\n",
       "<table border=\"1\" class=\"dataframe\">\n",
       "  <thead>\n",
       "    <tr style=\"text-align: right;\">\n",
       "      <th></th>\n",
       "      <th>HeartDisease</th>\n",
       "      <th>BMI</th>\n",
       "      <th>Smoking</th>\n",
       "      <th>AlcoholDrinking</th>\n",
       "      <th>Stroke</th>\n",
       "      <th>PhysicalHealth</th>\n",
       "      <th>MentalHealth</th>\n",
       "      <th>DiffWalking</th>\n",
       "      <th>Sex</th>\n",
       "      <th>AgeCategory</th>\n",
       "      <th>Race</th>\n",
       "      <th>Diabetic</th>\n",
       "      <th>PhysicalActivity</th>\n",
       "      <th>GenHealth</th>\n",
       "      <th>SleepTime</th>\n",
       "      <th>Asthma</th>\n",
       "      <th>KidneyDisease</th>\n",
       "      <th>SkinCancer</th>\n",
       "    </tr>\n",
       "  </thead>\n",
       "  <tbody>\n",
       "    <tr>\n",
       "      <th>2182</th>\n",
       "      <td>No</td>\n",
       "      <td>19.85</td>\n",
       "      <td>No</td>\n",
       "      <td>No</td>\n",
       "      <td>No</td>\n",
       "      <td>0.0</td>\n",
       "      <td>0.0</td>\n",
       "      <td>No</td>\n",
       "      <td>Female</td>\n",
       "      <td>80 or older</td>\n",
       "      <td>White</td>\n",
       "      <td>No</td>\n",
       "      <td>Yes</td>\n",
       "      <td>Excellent</td>\n",
       "      <td>7.0</td>\n",
       "      <td>No</td>\n",
       "      <td>No</td>\n",
       "      <td>No</td>\n",
       "    </tr>\n",
       "    <tr>\n",
       "      <th>3182</th>\n",
       "      <td>No</td>\n",
       "      <td>28.19</td>\n",
       "      <td>No</td>\n",
       "      <td>No</td>\n",
       "      <td>No</td>\n",
       "      <td>0.0</td>\n",
       "      <td>0.0</td>\n",
       "      <td>No</td>\n",
       "      <td>Female</td>\n",
       "      <td>50-54</td>\n",
       "      <td>White</td>\n",
       "      <td>No</td>\n",
       "      <td>Yes</td>\n",
       "      <td>Excellent</td>\n",
       "      <td>7.0</td>\n",
       "      <td>No</td>\n",
       "      <td>No</td>\n",
       "      <td>No</td>\n",
       "    </tr>\n",
       "    <tr>\n",
       "      <th>3397</th>\n",
       "      <td>No</td>\n",
       "      <td>26.54</td>\n",
       "      <td>No</td>\n",
       "      <td>No</td>\n",
       "      <td>No</td>\n",
       "      <td>0.0</td>\n",
       "      <td>0.0</td>\n",
       "      <td>No</td>\n",
       "      <td>Male</td>\n",
       "      <td>45-49</td>\n",
       "      <td>White</td>\n",
       "      <td>No</td>\n",
       "      <td>Yes</td>\n",
       "      <td>Excellent</td>\n",
       "      <td>6.0</td>\n",
       "      <td>No</td>\n",
       "      <td>No</td>\n",
       "      <td>No</td>\n",
       "    </tr>\n",
       "    <tr>\n",
       "      <th>3650</th>\n",
       "      <td>No</td>\n",
       "      <td>32.89</td>\n",
       "      <td>Yes</td>\n",
       "      <td>No</td>\n",
       "      <td>No</td>\n",
       "      <td>2.0</td>\n",
       "      <td>1.0</td>\n",
       "      <td>No</td>\n",
       "      <td>Female</td>\n",
       "      <td>50-54</td>\n",
       "      <td>White</td>\n",
       "      <td>No</td>\n",
       "      <td>Yes</td>\n",
       "      <td>Good</td>\n",
       "      <td>9.0</td>\n",
       "      <td>No</td>\n",
       "      <td>No</td>\n",
       "      <td>No</td>\n",
       "    </tr>\n",
       "    <tr>\n",
       "      <th>4061</th>\n",
       "      <td>No</td>\n",
       "      <td>25.84</td>\n",
       "      <td>No</td>\n",
       "      <td>No</td>\n",
       "      <td>No</td>\n",
       "      <td>0.0</td>\n",
       "      <td>0.0</td>\n",
       "      <td>No</td>\n",
       "      <td>Female</td>\n",
       "      <td>40-44</td>\n",
       "      <td>White</td>\n",
       "      <td>No</td>\n",
       "      <td>Yes</td>\n",
       "      <td>Excellent</td>\n",
       "      <td>8.0</td>\n",
       "      <td>No</td>\n",
       "      <td>No</td>\n",
       "      <td>No</td>\n",
       "    </tr>\n",
       "    <tr>\n",
       "      <th>...</th>\n",
       "      <td>...</td>\n",
       "      <td>...</td>\n",
       "      <td>...</td>\n",
       "      <td>...</td>\n",
       "      <td>...</td>\n",
       "      <td>...</td>\n",
       "      <td>...</td>\n",
       "      <td>...</td>\n",
       "      <td>...</td>\n",
       "      <td>...</td>\n",
       "      <td>...</td>\n",
       "      <td>...</td>\n",
       "      <td>...</td>\n",
       "      <td>...</td>\n",
       "      <td>...</td>\n",
       "      <td>...</td>\n",
       "      <td>...</td>\n",
       "      <td>...</td>\n",
       "    </tr>\n",
       "    <tr>\n",
       "      <th>319671</th>\n",
       "      <td>No</td>\n",
       "      <td>25.06</td>\n",
       "      <td>No</td>\n",
       "      <td>No</td>\n",
       "      <td>No</td>\n",
       "      <td>0.0</td>\n",
       "      <td>0.0</td>\n",
       "      <td>No</td>\n",
       "      <td>Male</td>\n",
       "      <td>40-44</td>\n",
       "      <td>Hispanic</td>\n",
       "      <td>No</td>\n",
       "      <td>Yes</td>\n",
       "      <td>Excellent</td>\n",
       "      <td>7.0</td>\n",
       "      <td>No</td>\n",
       "      <td>No</td>\n",
       "      <td>No</td>\n",
       "    </tr>\n",
       "    <tr>\n",
       "      <th>319689</th>\n",
       "      <td>No</td>\n",
       "      <td>27.44</td>\n",
       "      <td>No</td>\n",
       "      <td>No</td>\n",
       "      <td>No</td>\n",
       "      <td>0.0</td>\n",
       "      <td>0.0</td>\n",
       "      <td>No</td>\n",
       "      <td>Female</td>\n",
       "      <td>30-34</td>\n",
       "      <td>Hispanic</td>\n",
       "      <td>No</td>\n",
       "      <td>Yes</td>\n",
       "      <td>Very good</td>\n",
       "      <td>6.0</td>\n",
       "      <td>No</td>\n",
       "      <td>No</td>\n",
       "      <td>No</td>\n",
       "    </tr>\n",
       "    <tr>\n",
       "      <th>319726</th>\n",
       "      <td>No</td>\n",
       "      <td>30.41</td>\n",
       "      <td>No</td>\n",
       "      <td>No</td>\n",
       "      <td>No</td>\n",
       "      <td>0.0</td>\n",
       "      <td>0.0</td>\n",
       "      <td>No</td>\n",
       "      <td>Male</td>\n",
       "      <td>18-24</td>\n",
       "      <td>Hispanic</td>\n",
       "      <td>No</td>\n",
       "      <td>Yes</td>\n",
       "      <td>Excellent</td>\n",
       "      <td>7.0</td>\n",
       "      <td>No</td>\n",
       "      <td>No</td>\n",
       "      <td>No</td>\n",
       "    </tr>\n",
       "    <tr>\n",
       "      <th>319751</th>\n",
       "      <td>No</td>\n",
       "      <td>34.96</td>\n",
       "      <td>No</td>\n",
       "      <td>No</td>\n",
       "      <td>No</td>\n",
       "      <td>0.0</td>\n",
       "      <td>0.0</td>\n",
       "      <td>No</td>\n",
       "      <td>Male</td>\n",
       "      <td>18-24</td>\n",
       "      <td>Hispanic</td>\n",
       "      <td>No</td>\n",
       "      <td>Yes</td>\n",
       "      <td>Excellent</td>\n",
       "      <td>6.0</td>\n",
       "      <td>No</td>\n",
       "      <td>No</td>\n",
       "      <td>No</td>\n",
       "    </tr>\n",
       "    <tr>\n",
       "      <th>319776</th>\n",
       "      <td>No</td>\n",
       "      <td>27.98</td>\n",
       "      <td>No</td>\n",
       "      <td>No</td>\n",
       "      <td>No</td>\n",
       "      <td>0.0</td>\n",
       "      <td>0.0</td>\n",
       "      <td>No</td>\n",
       "      <td>Female</td>\n",
       "      <td>50-54</td>\n",
       "      <td>Hispanic</td>\n",
       "      <td>No</td>\n",
       "      <td>No</td>\n",
       "      <td>Good</td>\n",
       "      <td>8.0</td>\n",
       "      <td>No</td>\n",
       "      <td>No</td>\n",
       "      <td>No</td>\n",
       "    </tr>\n",
       "  </tbody>\n",
       "</table>\n",
       "<p>18078 rows × 18 columns</p>\n",
       "</div>"
      ],
      "text/plain": [
       "       HeartDisease    BMI Smoking AlcoholDrinking Stroke  PhysicalHealth  \\\n",
       "2182             No  19.85      No              No     No             0.0   \n",
       "3182             No  28.19      No              No     No             0.0   \n",
       "3397             No  26.54      No              No     No             0.0   \n",
       "3650             No  32.89     Yes              No     No             2.0   \n",
       "4061             No  25.84      No              No     No             0.0   \n",
       "...             ...    ...     ...             ...    ...             ...   \n",
       "319671           No  25.06      No              No     No             0.0   \n",
       "319689           No  27.44      No              No     No             0.0   \n",
       "319726           No  30.41      No              No     No             0.0   \n",
       "319751           No  34.96      No              No     No             0.0   \n",
       "319776           No  27.98      No              No     No             0.0   \n",
       "\n",
       "        MentalHealth DiffWalking     Sex  AgeCategory      Race Diabetic  \\\n",
       "2182             0.0          No  Female  80 or older     White       No   \n",
       "3182             0.0          No  Female        50-54     White       No   \n",
       "3397             0.0          No    Male        45-49     White       No   \n",
       "3650             1.0          No  Female        50-54     White       No   \n",
       "4061             0.0          No  Female        40-44     White       No   \n",
       "...              ...         ...     ...          ...       ...      ...   \n",
       "319671           0.0          No    Male        40-44  Hispanic       No   \n",
       "319689           0.0          No  Female        30-34  Hispanic       No   \n",
       "319726           0.0          No    Male        18-24  Hispanic       No   \n",
       "319751           0.0          No    Male        18-24  Hispanic       No   \n",
       "319776           0.0          No  Female        50-54  Hispanic       No   \n",
       "\n",
       "       PhysicalActivity  GenHealth  SleepTime Asthma KidneyDisease SkinCancer  \n",
       "2182                Yes  Excellent        7.0     No            No         No  \n",
       "3182                Yes  Excellent        7.0     No            No         No  \n",
       "3397                Yes  Excellent        6.0     No            No         No  \n",
       "3650                Yes       Good        9.0     No            No         No  \n",
       "4061                Yes  Excellent        8.0     No            No         No  \n",
       "...                 ...        ...        ...    ...           ...        ...  \n",
       "319671              Yes  Excellent        7.0     No            No         No  \n",
       "319689              Yes  Very good        6.0     No            No         No  \n",
       "319726              Yes  Excellent        7.0     No            No         No  \n",
       "319751              Yes  Excellent        6.0     No            No         No  \n",
       "319776               No       Good        8.0     No            No         No  \n",
       "\n",
       "[18078 rows x 18 columns]"
      ]
     },
     "execution_count": 11,
     "metadata": {},
     "output_type": "execute_result"
    }
   ],
   "source": [
    "data[data.duplicated()]"
   ]
  },
  {
   "cell_type": "code",
   "execution_count": 12,
   "id": "5faab2ea",
   "metadata": {
    "execution": {
     "iopub.execute_input": "2024-05-11T00:03:45.304753Z",
     "iopub.status.busy": "2024-05-11T00:03:45.304277Z",
     "iopub.status.idle": "2024-05-11T00:03:45.368016Z",
     "shell.execute_reply": "2024-05-11T00:03:45.366950Z"
    },
    "papermill": {
     "duration": 0.082197,
     "end_time": "2024-05-11T00:03:45.370360",
     "exception": false,
     "start_time": "2024-05-11T00:03:45.288163",
     "status": "completed"
    },
    "tags": []
   },
   "outputs": [
    {
     "data": {
      "text/plain": [
       "HeartDisease\n",
       "No     292422\n",
       "Yes     27373\n",
       "Name: count, dtype: int64"
      ]
     },
     "execution_count": 12,
     "metadata": {},
     "output_type": "execute_result"
    }
   ],
   "source": [
    "data['HeartDisease'].value_counts()"
   ]
  },
  {
   "cell_type": "markdown",
   "id": "e452da75",
   "metadata": {
    "papermill": {
     "duration": 0.014708,
     "end_time": "2024-05-11T00:03:45.400169",
     "exception": false,
     "start_time": "2024-05-11T00:03:45.385461",
     "status": "completed"
    },
    "tags": []
   },
   "source": [
    "## Data Analysis & Visualization\n",
    "\n"
   ]
  },
  {
   "cell_type": "code",
   "execution_count": 13,
   "id": "2e15c38c",
   "metadata": {
    "execution": {
     "iopub.execute_input": "2024-05-11T00:03:45.431714Z",
     "iopub.status.busy": "2024-05-11T00:03:45.431018Z",
     "iopub.status.idle": "2024-05-11T00:03:45.494487Z",
     "shell.execute_reply": "2024-05-11T00:03:45.493389Z"
    },
    "papermill": {
     "duration": 0.081677,
     "end_time": "2024-05-11T00:03:45.496947",
     "exception": false,
     "start_time": "2024-05-11T00:03:45.415270",
     "status": "completed"
    },
    "tags": []
   },
   "outputs": [
    {
     "data": {
      "text/plain": [
       "HeartDisease\n",
       "No     292422\n",
       "Yes     27373\n",
       "Name: count, dtype: int64"
      ]
     },
     "execution_count": 13,
     "metadata": {},
     "output_type": "execute_result"
    }
   ],
   "source": [
    "# check how many people have  HeartDisease or not\n",
    "data['HeartDisease'].value_counts()"
   ]
  },
  {
   "cell_type": "code",
   "execution_count": 14,
   "id": "d81e0a33",
   "metadata": {
    "execution": {
     "iopub.execute_input": "2024-05-11T00:03:45.529641Z",
     "iopub.status.busy": "2024-05-11T00:03:45.528797Z",
     "iopub.status.idle": "2024-05-11T00:03:45.834206Z",
     "shell.execute_reply": "2024-05-11T00:03:45.832678Z"
    },
    "papermill": {
     "duration": 0.325766,
     "end_time": "2024-05-11T00:03:45.838091",
     "exception": false,
     "start_time": "2024-05-11T00:03:45.512325",
     "status": "completed"
    },
    "tags": []
   },
   "outputs": [
    {
     "data": {
      "text/plain": [
       "<function matplotlib.pyplot.show(close=None, block=None)>"
      ]
     },
     "execution_count": 14,
     "metadata": {},
     "output_type": "execute_result"
    },
    {
     "data": {
      "image/png": "[encoded data removed]",
      "text/plain": [
       "<Figure size 640x480 with 1 Axes>"
      ]
     },
     "metadata": {},
     "output_type": "display_data"
    }
   ],
   "source": [
    "#show Ratio of HeartDisease from data\n",
    "plt.pie(x = data['HeartDisease'].value_counts() ,autopct='%1.2f%%' ,labels=data['HeartDisease'].value_counts().index)\n",
    "plt.title('the Ratio of Heart Disease')\n",
    "plt.show"
   ]
  },
  {
   "cell_type": "code",
   "execution_count": 15,
   "id": "fda1a64a",
   "metadata": {
    "execution": {
     "iopub.execute_input": "2024-05-11T00:03:45.896870Z",
     "iopub.status.busy": "2024-05-11T00:03:45.896471Z",
     "iopub.status.idle": "2024-05-11T00:03:45.958980Z",
     "shell.execute_reply": "2024-05-11T00:03:45.957905Z"
    },
    "papermill": {
     "duration": 0.08968,
     "end_time": "2024-05-11T00:03:45.961436",
     "exception": false,
     "start_time": "2024-05-11T00:03:45.871756",
     "status": "completed"
    },
    "tags": []
   },
   "outputs": [
    {
     "data": {
      "text/plain": [
       "Sex\n",
       "Female    167805\n",
       "Male      151990\n",
       "Name: count, dtype: int64"
      ]
     },
     "execution_count": 15,
     "metadata": {},
     "output_type": "execute_result"
    }
   ],
   "source": [
    "#how many of Male and female\n",
    "data['Sex'].value_counts()"
   ]
  },
  {
   "cell_type": "code",
   "execution_count": 16,
   "id": "e0f397e8",
   "metadata": {
    "execution": {
     "iopub.execute_input": "2024-05-11T00:03:45.995190Z",
     "iopub.status.busy": "2024-05-11T00:03:45.994815Z",
     "iopub.status.idle": "2024-05-11T00:03:46.538565Z",
     "shell.execute_reply": "2024-05-11T00:03:46.537414Z"
    },
    "papermill": {
     "duration": 0.563716,
     "end_time": "2024-05-11T00:03:46.541287",
     "exception": false,
     "start_time": "2024-05-11T00:03:45.977571",
     "status": "completed"
    },
    "tags": []
   },
   "outputs": [
    {
     "data": {
      "text/plain": [
       "<Axes: xlabel='Sex', ylabel='count'>"
      ]
     },
     "execution_count": 16,
     "metadata": {},
     "output_type": "execute_result"
    },
    {
     "data": {
      "image/png": "[encoded data removed]",
      "text/plain": [
       "<Figure size 640x480 with 1 Axes>"
      ]
     },
     "metadata": {},
     "output_type": "display_data"
    }
   ],
   "source": [
    "#show how many of Male and female\n",
    "sns.countplot(x = data['Sex'], palette='GnBu_d')"
   ]
  },
  {
   "cell_type": "code",
   "execution_count": 17,
   "id": "50378f75",
   "metadata": {
    "execution": {
     "iopub.execute_input": "2024-05-11T00:03:46.575241Z",
     "iopub.status.busy": "2024-05-11T00:03:46.574855Z",
     "iopub.status.idle": "2024-05-11T00:03:46.678009Z",
     "shell.execute_reply": "2024-05-11T00:03:46.676879Z"
    },
    "papermill": {
     "duration": 0.122879,
     "end_time": "2024-05-11T00:03:46.680388",
     "exception": false,
     "start_time": "2024-05-11T00:03:46.557509",
     "status": "completed"
    },
    "tags": []
   },
   "outputs": [
    {
     "data": {
      "text/plain": [
       "Sex     HeartDisease\n",
       "Female  No              156571\n",
       "        Yes              11234\n",
       "Male    No              135851\n",
       "        Yes              16139\n",
       "Name: HeartDisease, dtype: int64"
      ]
     },
     "execution_count": 17,
     "metadata": {},
     "output_type": "execute_result"
    }
   ],
   "source": [
    "data.groupby(['Sex','HeartDisease'])['HeartDisease'].count()\n"
   ]
  },
  {
   "cell_type": "code",
   "execution_count": 18,
   "id": "2e32481a",
   "metadata": {
    "execution": {
     "iopub.execute_input": "2024-05-11T00:03:46.715654Z",
     "iopub.status.busy": "2024-05-11T00:03:46.714561Z",
     "iopub.status.idle": "2024-05-11T00:03:47.802914Z",
     "shell.execute_reply": "2024-05-11T00:03:47.801787Z"
    },
    "papermill": {
     "duration": 1.108795,
     "end_time": "2024-05-11T00:03:47.805677",
     "exception": false,
     "start_time": "2024-05-11T00:03:46.696882",
     "status": "completed"
    },
    "tags": []
   },
   "outputs": [
    {
     "data": {
      "image/png": "[encoded data removed]",
      "text/plain": [
       "<Figure size 1000x500 with 1 Axes>"
      ]
     },
     "metadata": {},
     "output_type": "display_data"
    }
   ],
   "source": [
    "#show Heart Disease Frequency for Sex\n",
    "plt.figure(figsize=(10,5))\n",
    "sns.countplot(x = data['Sex'], data=data, hue='HeartDisease',palette=\"winter\")\n",
    "plt.title('Heart Disease Frequency for Sex')\n",
    "plt.xlabel('Sex')\n",
    "plt.legend([\"Haven't Disease\", \"Have Disease\"])\n",
    "plt.ylabel('Frequency')\n",
    "plt.show()"
   ]
  },
  {
   "cell_type": "code",
   "execution_count": 19,
   "id": "e1826c86",
   "metadata": {
    "execution": {
     "iopub.execute_input": "2024-05-11T00:03:47.843365Z",
     "iopub.status.busy": "2024-05-11T00:03:47.842952Z",
     "iopub.status.idle": "2024-05-11T00:03:47.905990Z",
     "shell.execute_reply": "2024-05-11T00:03:47.904899Z"
    },
    "papermill": {
     "duration": 0.084189,
     "end_time": "2024-05-11T00:03:47.908380",
     "exception": false,
     "start_time": "2024-05-11T00:03:47.824191",
     "status": "completed"
    },
    "tags": []
   },
   "outputs": [
    {
     "data": {
      "text/plain": [
       "AgeCategory\n",
       "65-69          34151\n",
       "60-64          33686\n",
       "70-74          31065\n",
       "55-59          29757\n",
       "50-54          25382\n",
       "80 or older    24153\n",
       "45-49          21791\n",
       "75-79          21482\n",
       "18-24          21064\n",
       "40-44          21006\n",
       "35-39          20550\n",
       "30-34          18753\n",
       "25-29          16955\n",
       "Name: count, dtype: int64"
      ]
     },
     "execution_count": 19,
     "metadata": {},
     "output_type": "execute_result"
    }
   ],
   "source": [
    "#AgeCategory frequency\n",
    "data['AgeCategory'].value_counts()"
   ]
  },
  {
   "cell_type": "code",
   "execution_count": 20,
   "id": "465ad6dd",
   "metadata": {
    "execution": {
     "iopub.execute_input": "2024-05-11T00:03:47.945172Z",
     "iopub.status.busy": "2024-05-11T00:03:47.944797Z",
     "iopub.status.idle": "2024-05-11T00:03:48.046421Z",
     "shell.execute_reply": "2024-05-11T00:03:48.045368Z"
    },
    "papermill": {
     "duration": 0.122553,
     "end_time": "2024-05-11T00:03:48.048662",
     "exception": false,
     "start_time": "2024-05-11T00:03:47.926109",
     "status": "completed"
    },
    "tags": []
   },
   "outputs": [
    {
     "data": {
      "text/plain": [
       "AgeCategory  HeartDisease\n",
       "18-24        No              20934\n",
       "             Yes               130\n",
       "25-29        No              16822\n",
       "             Yes               133\n",
       "30-34        No              18527\n",
       "             Yes               226\n",
       "35-39        No              20254\n",
       "             Yes               296\n",
       "40-44        No              20520\n",
       "             Yes               486\n",
       "45-49        No              21047\n",
       "             Yes               744\n",
       "50-54        No              23999\n",
       "             Yes              1383\n",
       "55-59        No              27555\n",
       "             Yes              2202\n",
       "60-64        No              30359\n",
       "             Yes              3327\n",
       "65-69        No              30050\n",
       "             Yes              4101\n",
       "70-74        No              26218\n",
       "             Yes              4847\n",
       "75-79        No              17433\n",
       "             Yes              4049\n",
       "80 or older  No              18704\n",
       "             Yes              5449\n",
       "Name: HeartDisease, dtype: int64"
      ]
     },
     "execution_count": 20,
     "metadata": {},
     "output_type": "execute_result"
    }
   ],
   "source": [
    "data.groupby(['AgeCategory','HeartDisease'])['HeartDisease'].count()\n"
   ]
  },
  {
   "cell_type": "code",
   "execution_count": 21,
   "id": "0689bad4",
   "metadata": {
    "execution": {
     "iopub.execute_input": "2024-05-11T00:03:48.085911Z",
     "iopub.status.busy": "2024-05-11T00:03:48.085184Z",
     "iopub.status.idle": "2024-05-11T00:03:49.121410Z",
     "shell.execute_reply": "2024-05-11T00:03:49.120165Z"
    },
    "papermill": {
     "duration": 1.057948,
     "end_time": "2024-05-11T00:03:49.124283",
     "exception": false,
     "start_time": "2024-05-11T00:03:48.066335",
     "status": "completed"
    },
    "tags": []
   },
   "outputs": [
    {
     "data": {
      "image/png": "[encoded data removed]",
      "text/plain": [
       "<Figure size 1000x500 with 1 Axes>"
      ]
     },
     "metadata": {},
     "output_type": "display_data"
    }
   ],
   "source": [
    "#show Heart Disease Frequency for AgeCategory\n",
    "plt.figure(figsize=(10,5))\n",
    "sns.countplot(x='AgeCategory', data=data, hue='HeartDisease',palette=\"winter\")\n",
    "plt.title('Heart Disease Frequency for AgeCategory')\n",
    "plt.xlabel('AgeCategory')\n",
    "plt.legend([\"Haven't Disease\", \"Have Disease\"])\n",
    "plt.ylabel('Frequency')\n",
    "plt.show()"
   ]
  },
  {
   "cell_type": "code",
   "execution_count": 22,
   "id": "4374ca17",
   "metadata": {
    "execution": {
     "iopub.execute_input": "2024-05-11T00:03:49.164425Z",
     "iopub.status.busy": "2024-05-11T00:03:49.163105Z",
     "iopub.status.idle": "2024-05-11T00:03:49.226368Z",
     "shell.execute_reply": "2024-05-11T00:03:49.225220Z"
    },
    "papermill": {
     "duration": 0.085973,
     "end_time": "2024-05-11T00:03:49.228800",
     "exception": false,
     "start_time": "2024-05-11T00:03:49.142827",
     "status": "completed"
    },
    "tags": []
   },
   "outputs": [
    {
     "data": {
      "text/plain": [
       "Smoking\n",
       "No     187887\n",
       "Yes    131908\n",
       "Name: count, dtype: int64"
      ]
     },
     "execution_count": 22,
     "metadata": {},
     "output_type": "execute_result"
    }
   ],
   "source": [
    "#the count of people Smoking\n",
    "data['Smoking'].value_counts()"
   ]
  },
  {
   "cell_type": "code",
   "execution_count": 23,
   "id": "eece8836",
   "metadata": {
    "execution": {
     "iopub.execute_input": "2024-05-11T00:03:49.267272Z",
     "iopub.status.busy": "2024-05-11T00:03:49.266324Z",
     "iopub.status.idle": "2024-05-11T00:03:49.424170Z",
     "shell.execute_reply": "2024-05-11T00:03:49.423215Z"
    },
    "papermill": {
     "duration": 0.179467,
     "end_time": "2024-05-11T00:03:49.426556",
     "exception": false,
     "start_time": "2024-05-11T00:03:49.247089",
     "status": "completed"
    },
    "tags": []
   },
   "outputs": [
    {
     "data": {
      "text/plain": [
       "Sex     AgeCategory  Smoking  HeartDisease\n",
       "Female  18-24        No       No              8252\n",
       "                              Yes               40\n",
       "                     Yes      No              1132\n",
       "                              Yes               10\n",
       "        25-29        No       No              5918\n",
       "                                              ... \n",
       "Male    75-79        Yes      Yes             1563\n",
       "        80 or older  No       No              3007\n",
       "                              Yes             1092\n",
       "                     Yes      No              3609\n",
       "                              Yes             1729\n",
       "Name: HeartDisease, Length: 104, dtype: int64"
      ]
     },
     "execution_count": 23,
     "metadata": {},
     "output_type": "execute_result"
    }
   ],
   "source": [
    "data.groupby(['Sex','AgeCategory','Smoking','HeartDisease'])['HeartDisease'].count()\n"
   ]
  },
  {
   "cell_type": "code",
   "execution_count": 24,
   "id": "ae026594",
   "metadata": {
    "execution": {
     "iopub.execute_input": "2024-05-11T00:03:49.525890Z",
     "iopub.status.busy": "2024-05-11T00:03:49.524869Z",
     "iopub.status.idle": "2024-05-11T00:03:50.411858Z",
     "shell.execute_reply": "2024-05-11T00:03:50.410769Z"
    },
    "papermill": {
     "duration": 0.908698,
     "end_time": "2024-05-11T00:03:50.414360",
     "exception": false,
     "start_time": "2024-05-11T00:03:49.505662",
     "status": "completed"
    },
    "tags": []
   },
   "outputs": [
    {
     "data": {
      "text/plain": [
       "Text(0.5, 0, 'Smoking')"
      ]
     },
     "execution_count": 24,
     "metadata": {},
     "output_type": "execute_result"
    },
    {
     "data": {
      "image/png": "[encoded data removed]",
      "text/plain": [
       "<Figure size 1000x500 with 1 Axes>"
      ]
     },
     "metadata": {},
     "output_type": "display_data"
    }
   ],
   "source": [
    "#show Heart Disease Frequency for Smoking\n",
    "plt.figure(figsize=(10,5))\n",
    "sns.countplot(x='Smoking',data=data,hue='HeartDisease',palette='winter')\n",
    "plt.title('Heart Disease of Smoking people')\n",
    "plt.legend([\"Haven't Disease\", \"Have Disease\"])\n",
    "plt.xlabel('Smoking')"
   ]
  },
  {
   "cell_type": "code",
   "execution_count": 25,
   "id": "ea1e74c3",
   "metadata": {
    "execution": {
     "iopub.execute_input": "2024-05-11T00:03:50.455717Z",
     "iopub.status.busy": "2024-05-11T00:03:50.455299Z",
     "iopub.status.idle": "2024-05-11T00:03:50.517417Z",
     "shell.execute_reply": "2024-05-11T00:03:50.516427Z"
    },
    "papermill": {
     "duration": 0.085666,
     "end_time": "2024-05-11T00:03:50.519765",
     "exception": false,
     "start_time": "2024-05-11T00:03:50.434099",
     "status": "completed"
    },
    "tags": []
   },
   "outputs": [
    {
     "data": {
      "text/plain": [
       "AlcoholDrinking\n",
       "No     298018\n",
       "Yes     21777\n",
       "Name: count, dtype: int64"
      ]
     },
     "execution_count": 25,
     "metadata": {},
     "output_type": "execute_result"
    }
   ],
   "source": [
    "# I want to Know how many people drink the AlcoholDrinking or not\n",
    "data['AlcoholDrinking'].value_counts()"
   ]
  },
  {
   "cell_type": "code",
   "execution_count": 26,
   "id": "5117ce23",
   "metadata": {
    "execution": {
     "iopub.execute_input": "2024-05-11T00:03:50.560235Z",
     "iopub.status.busy": "2024-05-11T00:03:50.559787Z",
     "iopub.status.idle": "2024-05-11T00:03:50.656657Z",
     "shell.execute_reply": "2024-05-11T00:03:50.655672Z"
    },
    "papermill": {
     "duration": 0.119925,
     "end_time": "2024-05-11T00:03:50.659002",
     "exception": false,
     "start_time": "2024-05-11T00:03:50.539077",
     "status": "completed"
    },
    "tags": []
   },
   "outputs": [
    {
     "data": {
      "text/plain": [
       "AlcoholDrinking  HeartDisease\n",
       "No               No              271786\n",
       "                 Yes              26232\n",
       "Yes              No               20636\n",
       "                 Yes               1141\n",
       "Name: HeartDisease, dtype: int64"
      ]
     },
     "execution_count": 26,
     "metadata": {},
     "output_type": "execute_result"
    }
   ],
   "source": [
    "data.groupby(['AlcoholDrinking','HeartDisease'])['HeartDisease'].count()\n"
   ]
  },
  {
   "cell_type": "code",
   "execution_count": 27,
   "id": "ef5f0e0a",
   "metadata": {
    "execution": {
     "iopub.execute_input": "2024-05-11T00:03:50.699194Z",
     "iopub.status.busy": "2024-05-11T00:03:50.698776Z",
     "iopub.status.idle": "2024-05-11T00:03:50.883301Z",
     "shell.execute_reply": "2024-05-11T00:03:50.882186Z"
    },
    "papermill": {
     "duration": 0.207543,
     "end_time": "2024-05-11T00:03:50.885895",
     "exception": false,
     "start_time": "2024-05-11T00:03:50.678352",
     "status": "completed"
    },
    "tags": []
   },
   "outputs": [
    {
     "data": {
      "text/plain": [
       "Sex     AgeCategory  AlcoholDrinking  PhysicalActivity  HeartDisease\n",
       "Female  18-24        No               No                No              1427\n",
       "                                                        Yes                9\n",
       "                                      Yes               No              7222\n",
       "                                                        Yes               38\n",
       "                     Yes              No                No                66\n",
       "                                                                        ... \n",
       "Male    80 or older  No               Yes               Yes             1791\n",
       "                     Yes              No                No                59\n",
       "                                                        Yes               34\n",
       "                                      Yes               No               128\n",
       "                                                        Yes               41\n",
       "Name: HeartDisease, Length: 208, dtype: int64"
      ]
     },
     "execution_count": 27,
     "metadata": {},
     "output_type": "execute_result"
    }
   ],
   "source": [
    "data.groupby(['Sex','AgeCategory','AlcoholDrinking','PhysicalActivity','HeartDisease'])['HeartDisease'].count()\n"
   ]
  },
  {
   "cell_type": "code",
   "execution_count": 28,
   "id": "7c41f576",
   "metadata": {
    "execution": {
     "iopub.execute_input": "2024-05-11T00:03:50.926381Z",
     "iopub.status.busy": "2024-05-11T00:03:50.926003Z",
     "iopub.status.idle": "2024-05-11T00:03:51.876605Z",
     "shell.execute_reply": "2024-05-11T00:03:51.875522Z"
    },
    "papermill": {
     "duration": 0.973965,
     "end_time": "2024-05-11T00:03:51.879331",
     "exception": false,
     "start_time": "2024-05-11T00:03:50.905366",
     "status": "completed"
    },
    "tags": []
   },
   "outputs": [
    {
     "data": {
      "image/png": "[encoded data removed]",
      "text/plain": [
       "<Figure size 1000x600 with 1 Axes>"
      ]
     },
     "metadata": {},
     "output_type": "display_data"
    }
   ],
   "source": [
    "#Show how many people drink the AlcoholDrinking or not\n",
    "plt.figure(figsize=(10,6))\n",
    "sns.countplot(x=data['AlcoholDrinking'],data=data , hue='HeartDisease',palette='winter')\n",
    "plt.title('people drinking the AlcoholDrinking')\n",
    "plt.legend([\"Haven't Disease\", \"Have Disease\"])\n",
    "plt.xlabel('AlcoholDrinking')\n",
    "plt.show()"
   ]
  },
  {
   "cell_type": "code",
   "execution_count": 29,
   "id": "4afa0260",
   "metadata": {
    "execution": {
     "iopub.execute_input": "2024-05-11T00:03:51.923379Z",
     "iopub.status.busy": "2024-05-11T00:03:51.922437Z",
     "iopub.status.idle": "2024-05-11T00:03:51.983006Z",
     "shell.execute_reply": "2024-05-11T00:03:51.981969Z"
    },
    "papermill": {
     "duration": 0.085407,
     "end_time": "2024-05-11T00:03:51.985433",
     "exception": false,
     "start_time": "2024-05-11T00:03:51.900026",
     "status": "completed"
    },
    "tags": []
   },
   "outputs": [
    {
     "data": {
      "text/plain": [
       "KidneyDisease\n",
       "No     308016\n",
       "Yes     11779\n",
       "Name: count, dtype: int64"
      ]
     },
     "execution_count": 29,
     "metadata": {},
     "output_type": "execute_result"
    }
   ],
   "source": [
    "#I want to know how many people have KidneyDisease\n",
    "data['KidneyDisease'].value_counts()"
   ]
  },
  {
   "cell_type": "code",
   "execution_count": 30,
   "id": "7ac9a5d5",
   "metadata": {
    "execution": {
     "iopub.execute_input": "2024-05-11T00:03:52.028215Z",
     "iopub.status.busy": "2024-05-11T00:03:52.027802Z",
     "iopub.status.idle": "2024-05-11T00:03:52.126816Z",
     "shell.execute_reply": "2024-05-11T00:03:52.125727Z"
    },
    "papermill": {
     "duration": 0.123016,
     "end_time": "2024-05-11T00:03:52.129152",
     "exception": false,
     "start_time": "2024-05-11T00:03:52.006136",
     "status": "completed"
    },
    "tags": []
   },
   "outputs": [
    {
     "data": {
      "text/plain": [
       "KidneyDisease  HeartDisease\n",
       "No             No              284098\n",
       "               Yes              23918\n",
       "Yes            No                8324\n",
       "               Yes               3455\n",
       "Name: HeartDisease, dtype: int64"
      ]
     },
     "execution_count": 30,
     "metadata": {},
     "output_type": "execute_result"
    }
   ],
   "source": [
    "#show the peolple who have KidneyDisease and HeartDisease\n",
    "data.groupby(['KidneyDisease','HeartDisease'])['HeartDisease'].count()"
   ]
  },
  {
   "cell_type": "code",
   "execution_count": 31,
   "id": "18cdd742",
   "metadata": {
    "execution": {
     "iopub.execute_input": "2024-05-11T00:03:52.172176Z",
     "iopub.status.busy": "2024-05-11T00:03:52.171750Z",
     "iopub.status.idle": "2024-05-11T00:03:52.301022Z",
     "shell.execute_reply": "2024-05-11T00:03:52.299903Z"
    },
    "papermill": {
     "duration": 0.153349,
     "end_time": "2024-05-11T00:03:52.303521",
     "exception": false,
     "start_time": "2024-05-11T00:03:52.150172",
     "status": "completed"
    },
    "tags": []
   },
   "outputs": [
    {
     "data": {
      "text/plain": [
       "Sex     KidneyDisease  HeartDisease\n",
       "Female  No             No              151743\n",
       "                       Yes               9608\n",
       "        Yes            No                4828\n",
       "                       Yes               1626\n",
       "Male    No             No              132355\n",
       "                       Yes              14310\n",
       "        Yes            No                3496\n",
       "                       Yes               1829\n",
       "Name: HeartDisease, dtype: int64"
      ]
     },
     "execution_count": 31,
     "metadata": {},
     "output_type": "execute_result"
    }
   ],
   "source": [
    "data.groupby(['Sex','KidneyDisease','HeartDisease'])['HeartDisease'].count()\n"
   ]
  },
  {
   "cell_type": "code",
   "execution_count": 32,
   "id": "2780f0f6",
   "metadata": {
    "execution": {
     "iopub.execute_input": "2024-05-11T00:03:52.347213Z",
     "iopub.status.busy": "2024-05-11T00:03:52.346824Z",
     "iopub.status.idle": "2024-05-11T00:03:53.223790Z",
     "shell.execute_reply": "2024-05-11T00:03:53.222685Z"
    },
    "papermill": {
     "duration": 0.902289,
     "end_time": "2024-05-11T00:03:53.226959",
     "exception": false,
     "start_time": "2024-05-11T00:03:52.324670",
     "status": "completed"
    },
    "tags": []
   },
   "outputs": [
    {
     "data": {
      "text/plain": [
       "<matplotlib.legend.Legend at 0x7ba719a8fdf0>"
      ]
     },
     "execution_count": 32,
     "metadata": {},
     "output_type": "execute_result"
    },
    {
     "data": {
      "image/png": "[encoded data removed]",
      "text/plain": [
       "<Figure size 1000x500 with 1 Axes>"
      ]
     },
     "metadata": {},
     "output_type": "display_data"
    }
   ],
   "source": [
    "plt.figure(figsize=(10,5))\n",
    "sns.countplot(data=data , x = 'KidneyDisease',hue='HeartDisease',palette=['blue','green'])\n",
    "plt.title('people have KidneyDisease')\n",
    "plt.legend([\"Haven't Disease\", \"Have Disease\"])"
   ]
  },
  {
   "cell_type": "code",
   "execution_count": 33,
   "id": "3def1a80",
   "metadata": {
    "execution": {
     "iopub.execute_input": "2024-05-11T00:03:53.273597Z",
     "iopub.status.busy": "2024-05-11T00:03:53.272804Z",
     "iopub.status.idle": "2024-05-11T00:03:53.376794Z",
     "shell.execute_reply": "2024-05-11T00:03:53.375761Z"
    },
    "papermill": {
     "duration": 0.129857,
     "end_time": "2024-05-11T00:03:53.379026",
     "exception": false,
     "start_time": "2024-05-11T00:03:53.249169",
     "status": "completed"
    },
    "tags": []
   },
   "outputs": [
    {
     "data": {
      "text/plain": [
       "Sex     KidneyDisease\n",
       "Female  No               161351\n",
       "        Yes                6454\n",
       "Male    No               146665\n",
       "        Yes                5325\n",
       "Name: KidneyDisease, dtype: int64"
      ]
     },
     "execution_count": 33,
     "metadata": {},
     "output_type": "execute_result"
    }
   ],
   "source": [
    "data.groupby(['Sex','KidneyDisease'])['KidneyDisease'].count()\n"
   ]
  },
  {
   "cell_type": "code",
   "execution_count": 34,
   "id": "f5428606",
   "metadata": {
    "execution": {
     "iopub.execute_input": "2024-05-11T00:03:53.425911Z",
     "iopub.status.busy": "2024-05-11T00:03:53.424365Z",
     "iopub.status.idle": "2024-05-11T00:03:54.352836Z",
     "shell.execute_reply": "2024-05-11T00:03:54.351672Z"
    },
    "papermill": {
     "duration": 0.954817,
     "end_time": "2024-05-11T00:03:54.355214",
     "exception": false,
     "start_time": "2024-05-11T00:03:53.400397",
     "status": "completed"
    },
    "tags": []
   },
   "outputs": [
    {
     "data": {
      "text/plain": [
       "<matplotlib.legend.Legend at 0x7ba719a5a1d0>"
      ]
     },
     "execution_count": 34,
     "metadata": {},
     "output_type": "execute_result"
    },
    {
     "data": {
      "image/png": "[encoded data removed]",
      "text/plain": [
       "<Figure size 1000x500 with 1 Axes>"
      ]
     },
     "metadata": {},
     "output_type": "display_data"
    }
   ],
   "source": [
    "plt.figure(figsize=(10,5))\n",
    "sns.countplot(data=data , x = 'Sex',hue='KidneyDisease',palette=['blue','green'])\n",
    "plt.title('people have KidneyDisease')\n",
    "plt.legend([\"Haven't Disease\", \"Have Disease\"])"
   ]
  },
  {
   "cell_type": "code",
   "execution_count": 35,
   "id": "c90f3f6b",
   "metadata": {
    "execution": {
     "iopub.execute_input": "2024-05-11T00:03:54.403357Z",
     "iopub.status.busy": "2024-05-11T00:03:54.402916Z",
     "iopub.status.idle": "2024-05-11T00:03:54.465139Z",
     "shell.execute_reply": "2024-05-11T00:03:54.463973Z"
    },
    "papermill": {
     "duration": 0.089202,
     "end_time": "2024-05-11T00:03:54.467479",
     "exception": false,
     "start_time": "2024-05-11T00:03:54.378277",
     "status": "completed"
    },
    "tags": []
   },
   "outputs": [
    {
     "data": {
      "text/plain": [
       "SkinCancer\n",
       "No     289976\n",
       "Yes     29819\n",
       "Name: count, dtype: int64"
      ]
     },
     "execution_count": 35,
     "metadata": {},
     "output_type": "execute_result"
    }
   ],
   "source": [
    "#Show the SkinCancer\n",
    "data['SkinCancer'].value_counts()"
   ]
  },
  {
   "cell_type": "code",
   "execution_count": 36,
   "id": "8b83c874",
   "metadata": {
    "execution": {
     "iopub.execute_input": "2024-05-11T00:03:54.517234Z",
     "iopub.status.busy": "2024-05-11T00:03:54.516439Z",
     "iopub.status.idle": "2024-05-11T00:03:54.619059Z",
     "shell.execute_reply": "2024-05-11T00:03:54.618016Z"
    },
    "papermill": {
     "duration": 0.13164,
     "end_time": "2024-05-11T00:03:54.621782",
     "exception": false,
     "start_time": "2024-05-11T00:03:54.490142",
     "status": "completed"
    },
    "tags": []
   },
   "outputs": [
    {
     "data": {
      "text/plain": [
       "Sex     SkinCancer\n",
       "Female  No            152782\n",
       "        Yes            15023\n",
       "Male    No            137194\n",
       "        Yes            14796\n",
       "Name: SkinCancer, dtype: int64"
      ]
     },
     "execution_count": 36,
     "metadata": {},
     "output_type": "execute_result"
    }
   ],
   "source": [
    "#Show people have SkinCancer\n",
    "data.groupby(['Sex','SkinCancer'])['SkinCancer'].count()"
   ]
  },
  {
   "cell_type": "code",
   "execution_count": 37,
   "id": "67d1d29a",
   "metadata": {
    "execution": {
     "iopub.execute_input": "2024-05-11T00:03:54.669645Z",
     "iopub.status.busy": "2024-05-11T00:03:54.668676Z",
     "iopub.status.idle": "2024-05-11T00:03:55.628803Z",
     "shell.execute_reply": "2024-05-11T00:03:55.627662Z"
    },
    "papermill": {
     "duration": 0.987076,
     "end_time": "2024-05-11T00:03:55.631234",
     "exception": false,
     "start_time": "2024-05-11T00:03:54.644158",
     "status": "completed"
    },
    "tags": []
   },
   "outputs": [
    {
     "data": {
      "text/plain": [
       "Text(0.5, 1.0, 'people have SkinCancer')"
      ]
     },
     "execution_count": 37,
     "metadata": {},
     "output_type": "execute_result"
    },
    {
     "data": {
      "image/png": "[encoded data removed]",
      "text/plain": [
       "<Figure size 1000x500 with 1 Axes>"
      ]
     },
     "metadata": {},
     "output_type": "display_data"
    }
   ],
   "source": [
    "plt.figure(figsize=(10,5))\n",
    "sns.countplot(x='Sex',data=data, hue='SkinCancer',palette='winter')\n",
    "plt.title('people have SkinCancer')\n"
   ]
  },
  {
   "cell_type": "code",
   "execution_count": 38,
   "id": "6493ff99",
   "metadata": {
    "execution": {
     "iopub.execute_input": "2024-05-11T00:03:55.681261Z",
     "iopub.status.busy": "2024-05-11T00:03:55.680272Z",
     "iopub.status.idle": "2024-05-11T00:03:55.809254Z",
     "shell.execute_reply": "2024-05-11T00:03:55.808134Z"
    },
    "papermill": {
     "duration": 0.156303,
     "end_time": "2024-05-11T00:03:55.811554",
     "exception": false,
     "start_time": "2024-05-11T00:03:55.655251",
     "status": "completed"
    },
    "tags": []
   },
   "outputs": [
    {
     "data": {
      "text/plain": [
       "Sex     SkinCancer  HeartDisease\n",
       "Female  No          No              143226\n",
       "                    Yes               9556\n",
       "        Yes         No               13345\n",
       "                    Yes               1678\n",
       "Male    No          No              124357\n",
       "                    Yes              12837\n",
       "        Yes         No               11494\n",
       "                    Yes               3302\n",
       "Name: HeartDisease, dtype: int64"
      ]
     },
     "execution_count": 38,
     "metadata": {},
     "output_type": "execute_result"
    }
   ],
   "source": [
    "data.groupby(['Sex','SkinCancer','HeartDisease'])['HeartDisease'].count()"
   ]
  },
  {
   "cell_type": "code",
   "execution_count": 39,
   "id": "f861aabb",
   "metadata": {
    "execution": {
     "iopub.execute_input": "2024-05-11T00:03:55.861975Z",
     "iopub.status.busy": "2024-05-11T00:03:55.860953Z",
     "iopub.status.idle": "2024-05-11T00:03:56.783426Z",
     "shell.execute_reply": "2024-05-11T00:03:56.782318Z"
    },
    "papermill": {
     "duration": 0.950522,
     "end_time": "2024-05-11T00:03:56.785863",
     "exception": false,
     "start_time": "2024-05-11T00:03:55.835341",
     "status": "completed"
    },
    "tags": []
   },
   "outputs": [
    {
     "data": {
      "text/plain": [
       "<matplotlib.legend.Legend at 0x7ba719bbfd00>"
      ]
     },
     "execution_count": 39,
     "metadata": {},
     "output_type": "execute_result"
    },
    {
     "data": {
      "image/png": "[encoded data removed]",
      "text/plain": [
       "<Figure size 640x480 with 1 Axes>"
      ]
     },
     "metadata": {},
     "output_type": "display_data"
    }
   ],
   "source": [
    "sns.countplot(x = 'SkinCancer', data=data , hue = 'HeartDisease')\n",
    "plt.title('people have SkinCancer and HeartDisease')\n",
    "plt.legend([\"Haven't Disease\", \"Have Disease\"])"
   ]
  },
  {
   "cell_type": "markdown",
   "id": "db4daeda",
   "metadata": {
    "papermill": {
     "duration": 0.024055,
     "end_time": "2024-05-11T00:03:56.833367",
     "exception": false,
     "start_time": "2024-05-11T00:03:56.809312",
     "status": "completed"
    },
    "tags": []
   },
   "source": [
    "## Check the Distribution and skewness of the features"
   ]
  }
 ],
 "metadata": {
  "kaggle": {
   "accelerator": "none",
   "dataSources": [
    {
     "datasetId": 1936563,
     "sourceId": 6674905,
     "sourceType": "datasetVersion"
    },
    {
     "datasetId": 4969092,
     "sourceId": 8361077,
     "sourceType": "datasetVersion"
    },
    {
     "datasetId": 4983009,
     "sourceId": 8379703,
     "sourceType": "datasetVersion"
    }
   ],
   "dockerImageVersionId": 30698,
   "isGpuEnabled": false,
   "isInternetEnabled": false,
   "language": "python",
   "sourceType": "notebook"
  },
  "kernelspec": {
   "display_name": "Python 3",
   "language": "python",
   "name": "python3"
  },
  "language_info": {
   "codemirror_mode": {
    "name": "ipython",
    "version": 3
   },
   "file_extension": ".py",
   "mimetype": "text/x-python",
   "name": "python",
   "nbconvert_exporter": "python",
   "pygments_lexer": "ipython3",
   "version": "3.10.13"
  },
  "papermill": {
   "default_parameters": {},
   "duration": 22.668019,
   "end_time": "2024-05-11T00:03:57.578341",
   "environment_variables": {},
   "exception": null,
   "input_path": "__notebook__.ipynb",
   "output_path": "__notebook__.ipynb",
   "parameters": {},
   "start_time": "2024-05-11T00:03:34.910322",
   "version": "2.5.0"
  }
 },
 "nbformat": 4,
 "nbformat_minor": 5
}
